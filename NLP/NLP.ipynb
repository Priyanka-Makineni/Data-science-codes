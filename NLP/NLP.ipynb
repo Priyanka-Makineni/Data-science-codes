{
 "cells": [
  {
   "cell_type": "markdown",
   "metadata": {},
   "source": [
    "## Natural Language Processing"
   ]
  },
  {
   "cell_type": "markdown",
   "metadata": {},
   "source": [
    "#### Definition"
   ]
  },
  {
   "cell_type": "markdown",
   "metadata": {},
   "source": [
    "Natural language processing (NLP) is a subfield of linguistics, computer science, information engineering, and artificial intelligence concerned with the interactions between computers and human (natural) languages, in particular how to program computers to process and analyze large amounts of natural language data.\n",
    "\n"
   ]
  },
  {
   "cell_type": "markdown",
   "metadata": {},
   "source": [
    "### Data set information"
   ]
  },
  {
   "cell_type": "markdown",
   "metadata": {},
   "source": [
    "Restaurant reviews dataset:- <br>This dataset contains two features(columns)as Review and Liked ,1000 rows  and 2000 thousand datapoints."
   ]
  },
  {
   "cell_type": "code",
   "execution_count": 24,
   "metadata": {},
   "outputs": [],
   "source": [
    "# importing nltk library\n",
    "import nltk"
   ]
  },
  {
   "cell_type": "markdown",
   "metadata": {},
   "source": [
    "### Reading and Exploring the dataset"
   ]
  },
  {
   "cell_type": "code",
   "execution_count": 25,
   "metadata": {},
   "outputs": [
    {
     "data": {
      "text/plain": [
       "\"eview\\tLiked\\nWow... Loved this place.\\t1\\nCrust is not good.\\t0\\nNot tasty and the texture was just nasty.\\t0\\nStopped by during the late May bank holiday off Rick Steve recommendation and loved it.\\t1\\nThe selection on the menu was great and so were the prices.\\t1\\nNow I am getting angry and I want my damn pho.\\t0\\nHoneslty it didn't taste THAT fresh.)\\t0\\nThe potatoes were like rubber and you could tell they had been made up ahead of time being kept under a warmer.\\t0\\nThe fries were great too.\\t1\\nA great touch.\\t1\\nService was very prompt.\\t1\\nWould not go back.\\t0\\nThe cashier had no care what so ever on what I had to say it still ended up being wayyy overpriced.\\t0\\nI tried the Cape Cod ravoli, chicken, with cranberry...mmmm!\\t1\\nI was disgusted because I was pretty sure that was human hair.\\t0\\nI was shocked because no signs indicate cash only.\\t0\\nHighly recommended.\\t1\\nWaitress was a little slow in service.\\t0\\nThis place is not worth your time, let alone Vegas.\\t0\\ndid not like at all.\\t0\\nThe Burrittos Blah!\\t0\\nThe\""
      ]
     },
     "execution_count": 25,
     "metadata": {},
     "output_type": "execute_result"
    }
   ],
   "source": [
    "# Reading the raw data\n",
    "rawdata=open(\"Restaurant_Reviews.tsv\").read()\n",
    "rawdata[1:1001]"
   ]
  },
  {
   "cell_type": "code",
   "execution_count": 26,
   "metadata": {},
   "outputs": [],
   "source": [
    "# Importing the libraries\n",
    "import numpy as np\n",
    "import matplotlib.pyplot as plt\n",
    "import pandas as pd"
   ]
  },
  {
   "cell_type": "code",
   "execution_count": 27,
   "metadata": {},
   "outputs": [
    {
     "data": {
      "text/html": [
       "<div>\n",
       "<style scoped>\n",
       "    .dataframe tbody tr th:only-of-type {\n",
       "        vertical-align: middle;\n",
       "    }\n",
       "\n",
       "    .dataframe tbody tr th {\n",
       "        vertical-align: top;\n",
       "    }\n",
       "\n",
       "    .dataframe thead th {\n",
       "        text-align: right;\n",
       "    }\n",
       "</style>\n",
       "<table border=\"1\" class=\"dataframe\">\n",
       "  <thead>\n",
       "    <tr style=\"text-align: right;\">\n",
       "      <th></th>\n",
       "      <th>Review</th>\n",
       "      <th>Liked</th>\n",
       "    </tr>\n",
       "  </thead>\n",
       "  <tbody>\n",
       "    <tr>\n",
       "      <th>0</th>\n",
       "      <td>Wow... Loved this place.</td>\n",
       "      <td>1</td>\n",
       "    </tr>\n",
       "    <tr>\n",
       "      <th>1</th>\n",
       "      <td>Crust is not good.</td>\n",
       "      <td>0</td>\n",
       "    </tr>\n",
       "  </tbody>\n",
       "</table>\n",
       "</div>"
      ],
      "text/plain": [
       "                     Review  Liked\n",
       "0  Wow... Loved this place.      1\n",
       "1        Crust is not good.      0"
      ]
     },
     "execution_count": 27,
     "metadata": {},
     "output_type": "execute_result"
    }
   ],
   "source": [
    "# Importing the dataset\n",
    "data=pd.read_csv(\"D:\\\\mail downloads\\\\NLP\\\\Restaurant_Reviews.tsv\",delimiter=\"\\t\",quoting=3)\n",
    "data.head(2)"
   ]
  },
  {
   "cell_type": "markdown",
   "metadata": {},
   "source": [
    "### Pre-Processing the Data"
   ]
  },
  {
   "cell_type": "markdown",
   "metadata": {},
   "source": [
    "#### 1. Remove the punctuation Marks<br>\n",
    "For more Information click here.[punctuation](https://en.wikipedia.org/wiki/Punctuation)<br>\n",
    " It removes The all Punctuation marks(!\"#$%&'()*+,-./:;<=>?@[\\]^_`{|}~)\n"
   ]
  },
  {
   "cell_type": "code",
   "execution_count": 28,
   "metadata": {},
   "outputs": [
    {
     "name": "stdout",
     "output_type": "stream",
     "text": [
      "!\"#$%&'()*+,-./:;<=>?@[\\]^_`{|}~\n"
     ]
    }
   ],
   "source": [
    "import string\n",
    "print(string.punctuation)"
   ]
  },
  {
   "cell_type": "markdown",
   "metadata": {},
   "source": [
    "The above are the all punctuation marks"
   ]
  },
  {
   "cell_type": "code",
   "execution_count": 29,
   "metadata": {},
   "outputs": [
    {
     "data": {
      "text/html": [
       "<div>\n",
       "<style scoped>\n",
       "    .dataframe tbody tr th:only-of-type {\n",
       "        vertical-align: middle;\n",
       "    }\n",
       "\n",
       "    .dataframe tbody tr th {\n",
       "        vertical-align: top;\n",
       "    }\n",
       "\n",
       "    .dataframe thead th {\n",
       "        text-align: right;\n",
       "    }\n",
       "</style>\n",
       "<table border=\"1\" class=\"dataframe\">\n",
       "  <thead>\n",
       "    <tr style=\"text-align: right;\">\n",
       "      <th></th>\n",
       "      <th>Review</th>\n",
       "      <th>Liked</th>\n",
       "      <th>Review_clean</th>\n",
       "    </tr>\n",
       "  </thead>\n",
       "  <tbody>\n",
       "    <tr>\n",
       "      <th>0</th>\n",
       "      <td>Wow... Loved this place.</td>\n",
       "      <td>1</td>\n",
       "      <td>Wow Loved this place</td>\n",
       "    </tr>\n",
       "    <tr>\n",
       "      <th>1</th>\n",
       "      <td>Crust is not good.</td>\n",
       "      <td>0</td>\n",
       "      <td>Crust is not good</td>\n",
       "    </tr>\n",
       "  </tbody>\n",
       "</table>\n",
       "</div>"
      ],
      "text/plain": [
       "                     Review  Liked          Review_clean\n",
       "0  Wow... Loved this place.      1  Wow Loved this place\n",
       "1        Crust is not good.      0     Crust is not good"
      ]
     },
     "execution_count": 29,
     "metadata": {},
     "output_type": "execute_result"
    }
   ],
   "source": [
    "# Function to remove punctuation\n",
    "def remove_punct(text):\n",
    "    text_nopunct=\"\".join([char for char in text if char not in string.punctuation]) # It will discard all punctuation\n",
    "    return text_nopunct\n",
    "data[\"Review_clean\"]=data[\"Review\"].apply(lambda x:remove_punct(x))\n",
    "data.head(2)"
   ]
  },
  {
   "cell_type": "markdown",
   "metadata": {},
   "source": [
    "#### 2. Tokenization<br>\n",
    "It Splits the Sentences into **words**.<br>\n",
    "For more informattion click here.[Tokenization](https://www.guru99.com/tokenize-words-sentences-nltk.html)"
   ]
  },
  {
   "cell_type": "code",
   "execution_count": 30,
   "metadata": {},
   "outputs": [
    {
     "data": {
      "text/html": [
       "<div>\n",
       "<style scoped>\n",
       "    .dataframe tbody tr th:only-of-type {\n",
       "        vertical-align: middle;\n",
       "    }\n",
       "\n",
       "    .dataframe tbody tr th {\n",
       "        vertical-align: top;\n",
       "    }\n",
       "\n",
       "    .dataframe thead th {\n",
       "        text-align: right;\n",
       "    }\n",
       "</style>\n",
       "<table border=\"1\" class=\"dataframe\">\n",
       "  <thead>\n",
       "    <tr style=\"text-align: right;\">\n",
       "      <th></th>\n",
       "      <th>Review</th>\n",
       "      <th>Liked</th>\n",
       "      <th>Review_clean</th>\n",
       "      <th>Review_tokenized</th>\n",
       "    </tr>\n",
       "  </thead>\n",
       "  <tbody>\n",
       "    <tr>\n",
       "      <th>0</th>\n",
       "      <td>Wow... Loved this place.</td>\n",
       "      <td>1</td>\n",
       "      <td>Wow Loved this place</td>\n",
       "      <td>[Wow, Loved, this, place]</td>\n",
       "    </tr>\n",
       "    <tr>\n",
       "      <th>1</th>\n",
       "      <td>Crust is not good.</td>\n",
       "      <td>0</td>\n",
       "      <td>Crust is not good</td>\n",
       "      <td>[Crust, is, not, good]</td>\n",
       "    </tr>\n",
       "  </tbody>\n",
       "</table>\n",
       "</div>"
      ],
      "text/plain": [
       "                     Review  Liked          Review_clean  \\\n",
       "0  Wow... Loved this place.      1  Wow Loved this place   \n",
       "1        Crust is not good.      0     Crust is not good   \n",
       "\n",
       "            Review_tokenized  \n",
       "0  [Wow, Loved, this, place]  \n",
       "1     [Crust, is, not, good]  "
      ]
     },
     "execution_count": 30,
     "metadata": {},
     "output_type": "execute_result"
    }
   ],
   "source": [
    "import re\n",
    "# Function to Tokenize  words\n",
    "def tokenize(text):\n",
    "    tokens=re.split('\\W+', text) # w+ means that either a word character (A-Z,a-z,0-9)\n",
    "    return tokens\n",
    "data[\"Review_tokenized\"]=data[\"Review_clean\"].apply(lambda x:tokenize(x))\n",
    "data.head(2)\n"
   ]
  },
  {
   "cell_type": "markdown",
   "metadata": {},
   "source": [
    "#### 3. Remove Stop words<br>\n",
    "It Removes the **Stop Words**.<br>\n",
    "For more information click here[Stop Words](https://www.geeksforgeeks.org/removing-stop-words-nltk-python/)."
   ]
  },
  {
   "cell_type": "code",
   "execution_count": 31,
   "metadata": {},
   "outputs": [],
   "source": [
    "import nltk\n",
    "stopwords=nltk.corpus.stopwords.words(\"english\") # All englishwords\n"
   ]
  },
  {
   "cell_type": "code",
   "execution_count": 32,
   "metadata": {},
   "outputs": [
    {
     "data": {
      "text/html": [
       "<div>\n",
       "<style scoped>\n",
       "    .dataframe tbody tr th:only-of-type {\n",
       "        vertical-align: middle;\n",
       "    }\n",
       "\n",
       "    .dataframe tbody tr th {\n",
       "        vertical-align: top;\n",
       "    }\n",
       "\n",
       "    .dataframe thead th {\n",
       "        text-align: right;\n",
       "    }\n",
       "</style>\n",
       "<table border=\"1\" class=\"dataframe\">\n",
       "  <thead>\n",
       "    <tr style=\"text-align: right;\">\n",
       "      <th></th>\n",
       "      <th>Review</th>\n",
       "      <th>Liked</th>\n",
       "      <th>Review_clean</th>\n",
       "      <th>Review_tokenized</th>\n",
       "      <th>Review_nostop</th>\n",
       "    </tr>\n",
       "  </thead>\n",
       "  <tbody>\n",
       "    <tr>\n",
       "      <th>0</th>\n",
       "      <td>Wow... Loved this place.</td>\n",
       "      <td>1</td>\n",
       "      <td>Wow Loved this place</td>\n",
       "      <td>[Wow, Loved, this, place]</td>\n",
       "      <td>[Wow, Loved, place]</td>\n",
       "    </tr>\n",
       "    <tr>\n",
       "      <th>1</th>\n",
       "      <td>Crust is not good.</td>\n",
       "      <td>0</td>\n",
       "      <td>Crust is not good</td>\n",
       "      <td>[Crust, is, not, good]</td>\n",
       "      <td>[Crust, good]</td>\n",
       "    </tr>\n",
       "  </tbody>\n",
       "</table>\n",
       "</div>"
      ],
      "text/plain": [
       "                     Review  Liked          Review_clean  \\\n",
       "0  Wow... Loved this place.      1  Wow Loved this place   \n",
       "1        Crust is not good.      0     Crust is not good   \n",
       "\n",
       "            Review_tokenized        Review_nostop  \n",
       "0  [Wow, Loved, this, place]  [Wow, Loved, place]  \n",
       "1     [Crust, is, not, good]        [Crust, good]  "
      ]
     },
     "execution_count": 32,
     "metadata": {},
     "output_type": "execute_result"
    }
   ],
   "source": [
    "# Function to remove stopwords\n",
    "def remove_stopwords(tokenized_list):\n",
    "    text=[word for word in tokenized_list if word not in stopwords] # To remove all stopwords\n",
    "    return text\n",
    "data[\"Review_nostop\"]=data[\"Review_tokenized\"].apply (lambda x:remove_stopwords(x))\n",
    "data.head(2)\n"
   ]
  },
  {
   "cell_type": "markdown",
   "metadata": {},
   "source": [
    "### Stemming<br>\n",
    "It reduce a word to its **stem form**.It removes suffices, like “ing”, “ly”, “s”, etc. by a simple rule-based approach. It reduces the corpus of words but often the actual words get neglected. eg: Entitling,Entitled->Entitl<br>\n",
    "For more information [Stemming](https://www.geeksforgeeks.org/python-stemming-words-with-nltk/)"
   ]
  },
  {
   "cell_type": "code",
   "execution_count": 33,
   "metadata": {},
   "outputs": [
    {
     "data": {
      "text/html": [
       "<div>\n",
       "<style scoped>\n",
       "    .dataframe tbody tr th:only-of-type {\n",
       "        vertical-align: middle;\n",
       "    }\n",
       "\n",
       "    .dataframe tbody tr th {\n",
       "        vertical-align: top;\n",
       "    }\n",
       "\n",
       "    .dataframe thead th {\n",
       "        text-align: right;\n",
       "    }\n",
       "</style>\n",
       "<table border=\"1\" class=\"dataframe\">\n",
       "  <thead>\n",
       "    <tr style=\"text-align: right;\">\n",
       "      <th></th>\n",
       "      <th>Review</th>\n",
       "      <th>Liked</th>\n",
       "      <th>Review_clean</th>\n",
       "      <th>Review_tokenized</th>\n",
       "      <th>Review_nostop</th>\n",
       "      <th>Review_stemmed</th>\n",
       "    </tr>\n",
       "  </thead>\n",
       "  <tbody>\n",
       "    <tr>\n",
       "      <th>0</th>\n",
       "      <td>Wow... Loved this place.</td>\n",
       "      <td>1</td>\n",
       "      <td>Wow Loved this place</td>\n",
       "      <td>[Wow, Loved, this, place]</td>\n",
       "      <td>[Wow, Loved, place]</td>\n",
       "      <td>[wow, love, place]</td>\n",
       "    </tr>\n",
       "    <tr>\n",
       "      <th>1</th>\n",
       "      <td>Crust is not good.</td>\n",
       "      <td>0</td>\n",
       "      <td>Crust is not good</td>\n",
       "      <td>[Crust, is, not, good]</td>\n",
       "      <td>[Crust, good]</td>\n",
       "      <td>[crust, good]</td>\n",
       "    </tr>\n",
       "  </tbody>\n",
       "</table>\n",
       "</div>"
      ],
      "text/plain": [
       "                     Review  Liked          Review_clean  \\\n",
       "0  Wow... Loved this place.      1  Wow Loved this place   \n",
       "1        Crust is not good.      0     Crust is not good   \n",
       "\n",
       "            Review_tokenized        Review_nostop      Review_stemmed  \n",
       "0  [Wow, Loved, this, place]  [Wow, Loved, place]  [wow, love, place]  \n",
       "1     [Crust, is, not, good]        [Crust, good]       [crust, good]  "
      ]
     },
     "execution_count": 33,
     "metadata": {},
     "output_type": "execute_result"
    }
   ],
   "source": [
    "ps=nltk.PorterStemmer()\n",
    "def stemming(tokenized_text):\n",
    "    text=[ps.stem(word) for word in tokenized_text]\n",
    "    return text\n",
    "data[\"Review_stemmed\"]=data[\"Review_nostop\"].apply(lambda x:stemming(x))\n",
    "data.head(2)"
   ]
  },
  {
   "cell_type": "markdown",
   "metadata": {},
   "source": [
    "#### Lemmatizing<br>\n",
    "It derives the canonical form (‘lemm).a’) of a word. i.e the root form. It is better than stemming as it uses a dictionary-based approach i.e a morphological analysis to the root word.eg: Entitling, Entitled->Entitle.<br>\n",
    "For more information [Lemmatization](https://www.machinelearningplus.com/nlp/lemmatization-examples-python/).\n"
   ]
  },
  {
   "cell_type": "markdown",
   "metadata": {},
   "source": [
    "nltk.download()<br>\n",
    "In order to download **wordnet** and different packages for different **NLP** using the above code\n"
   ]
  },
  {
   "cell_type": "code",
   "execution_count": 34,
   "metadata": {},
   "outputs": [
    {
     "data": {
      "text/html": [
       "<div>\n",
       "<style scoped>\n",
       "    .dataframe tbody tr th:only-of-type {\n",
       "        vertical-align: middle;\n",
       "    }\n",
       "\n",
       "    .dataframe tbody tr th {\n",
       "        vertical-align: top;\n",
       "    }\n",
       "\n",
       "    .dataframe thead th {\n",
       "        text-align: right;\n",
       "    }\n",
       "</style>\n",
       "<table border=\"1\" class=\"dataframe\">\n",
       "  <thead>\n",
       "    <tr style=\"text-align: right;\">\n",
       "      <th></th>\n",
       "      <th>Review</th>\n",
       "      <th>Liked</th>\n",
       "      <th>Review_clean</th>\n",
       "      <th>Review_tokenized</th>\n",
       "      <th>Review_nostop</th>\n",
       "      <th>Review_stemmed</th>\n",
       "      <th>Review_lemmatized</th>\n",
       "    </tr>\n",
       "  </thead>\n",
       "  <tbody>\n",
       "    <tr>\n",
       "      <th>0</th>\n",
       "      <td>Wow... Loved this place.</td>\n",
       "      <td>1</td>\n",
       "      <td>Wow Loved this place</td>\n",
       "      <td>[Wow, Loved, this, place]</td>\n",
       "      <td>[Wow, Loved, place]</td>\n",
       "      <td>[wow, love, place]</td>\n",
       "      <td>[Wow, Loved, place]</td>\n",
       "    </tr>\n",
       "    <tr>\n",
       "      <th>1</th>\n",
       "      <td>Crust is not good.</td>\n",
       "      <td>0</td>\n",
       "      <td>Crust is not good</td>\n",
       "      <td>[Crust, is, not, good]</td>\n",
       "      <td>[Crust, good]</td>\n",
       "      <td>[crust, good]</td>\n",
       "      <td>[Crust, good]</td>\n",
       "    </tr>\n",
       "  </tbody>\n",
       "</table>\n",
       "</div>"
      ],
      "text/plain": [
       "                     Review  Liked          Review_clean  \\\n",
       "0  Wow... Loved this place.      1  Wow Loved this place   \n",
       "1        Crust is not good.      0     Crust is not good   \n",
       "\n",
       "            Review_tokenized        Review_nostop      Review_stemmed  \\\n",
       "0  [Wow, Loved, this, place]  [Wow, Loved, place]  [wow, love, place]   \n",
       "1     [Crust, is, not, good]        [Crust, good]       [crust, good]   \n",
       "\n",
       "     Review_lemmatized  \n",
       "0  [Wow, Loved, place]  \n",
       "1        [Crust, good]  "
      ]
     },
     "execution_count": 34,
     "metadata": {},
     "output_type": "execute_result"
    }
   ],
   "source": [
    "wn=nltk.WordNetLemmatizer()\n",
    " \n",
    "def lemmatizing(tokenized_text):\n",
    "    text=[wn.lemmatize(word) for word in tokenized_text]\n",
    "    return text\n",
    "data[\"Review_lemmatized\"]=data[\"Review_nostop\"].apply(lambda x:lemmatizing(x))\n",
    "data.head(2)"
   ]
  },
  {
   "cell_type": "markdown",
   "metadata": {},
   "source": [
    "### vectorizing the data: Bag of words<br>\n",
    "You need to convert these text into some numbers or vectors of numbers. Bag-of-words model(BoW ) is the simplest way of extracting features from the text. BoW converts text into the matrix of occurrence of words within a document.\n"
   ]
  },
  {
   "cell_type": "code",
   "execution_count": 35,
   "metadata": {},
   "outputs": [
    {
     "name": "stdout",
     "output_type": "stream",
     "text": [
      "(1000, 2035)\n"
     ]
    }
   ],
   "source": [
    "from sklearn.feature_extraction.text import CountVectorizer\n",
    "count_vect=CountVectorizer()\n",
    "X_counts=count_vect.fit_transform(data[\"Review\"])\n",
    "print(X_counts.shape)\n",
    "#print(count_vect.get_features_names())\n"
   ]
  },
  {
   "cell_type": "markdown",
   "metadata": {},
   "source": [
    "### Vectorizing data:N-grams<br>\n",
    "It is a set of co-occurring or continuous sequence of n items from a sequence of large text or sentence. The item here could be words, letters, and syllables. 1-gram is also called as unigrams are the unique words present in the sentence. Bigram(2-gram) is the combination of 2 words. Trigram(3-gram) is 3 words and so on."
   ]
  },
  {
   "cell_type": "code",
   "execution_count": 36,
   "metadata": {},
   "outputs": [
    {
     "name": "stdout",
     "output_type": "stream",
     "text": [
      "(1000, 6691)\n",
      "['10 minutes', '10 times', '100 recommended', '100 times', '11 99', '12 ridiculous', '15 minutes', '17 burger', '1979 and', '20 minutes', '20 you', '2007 and', '23 which', '30 min', '30 minutes', '30s and', '35 big', '35 minutes', '40 and', '40 bucks', '40 minutes', '40min passed', '45 minutes', '4ths gristle', '5lb piece', '70 when', '85 for', '90 has', '99 for', 'about 10', 'about 20', 'about great', 'about half', 'about here', 'about on', 'about our', 'about taste', 'about the', 'about this', 'about two', 'about was', 'about working', 'above and', 'above average', 'absolute must', 'absolutely amazing', 'absolutely be', 'absolutely delicious', 'absolutely flat', 'absolutely no', 'absolutely stars', 'absolutley fantastic', 'accident and', 'accommodations for', 'accomodate for', 'accountant to', 'ache and', 'acknowledged then', 'actual experience', 'actually rare', 'added extra', 'added gratuity', 'affordable prices', 'after 10', 'after 20', 'after all', 'after going', 'after one', 'after pulled', 'after some', 'after the', 'after this', 'after two', 'after us', 'after waiting', 'again because', 'again if', 'again will', 'ago and', 'ahead of', 'airline food', 'airport to', 'ala cart', 'albondigas soup', 'all am', 'all an', 'all and', 'all are', 'all can', 'all cost', 'all day', 'all good', 'all ha', 'all had', 'all handmade', 'all have', 'all he', 'all in', 'all means', 'all needed', 'all night', 'all not', 'all of', 'all so', 'all something', 'all sporting', 'all the', 'all three', 'all time', 'all warm', 'all well', 'all were', 'all yummy', 'allergy warnings', 'almonds and', 'almost empty', 'almost melt', 'alone vegas', 'also bad', 'also came', 'also cute', 'also decided', 'also dirty', 'also feel', 'also had', 'also have', 'also highlight', 'also incredible', 'also nice', 'also now', 'also ordered', 'also perfectly', 'also pretty', 'also really', 'also taste', 'also the', 'also there', 'also thrilled', 'also took', 'also uninspired', 'also very', 'also were', 'although some', 'although there', 'although very', 'always been', 'always changing', 'always clean', 'always compliments', 'always friendly', 'always full', 'always great', 'always hit', 'always honor', 'always make', 'always order', 'always pleasure', 'always super', 'always the', 'am disappointed', 'am far', 'am getting', 'am going', 'am saying', 'am so', 'amazing accommodations', 'amazing but', 'amazing desserts', 'amazing experience', 'amazing fluffy', 'amazing is', 'amazing meal', 'amazing pizzas', 'amazing rge', 'amazing what', 'ambiance clean', 'ambiance here', 'ambiance is', 'ambiance isn', 'ambiance was', 'ambience is', 'ambience made', 'amount of', 'ample portions', 'an absolute', 'an absolutely', 'an accountant', 'an amazing', 'an appetizer', 'an are', 'an awesome', 'an eating', 'an enjoyable', 'an event', 'an excellent', 'an experienced', 'an expert', 'an extensive', 'an extra', 'an hour', 'an incredible', 'an interesting', 'an off', 'an old', 'an outstanding', 'an unbelievable', 'an underwhelming', 'and 90', 'and after', 'and all', 'and also', 'and am', 'and ambiance', 'and an', 'and another', 'and apparently', 'and are', 'and ate', 'and attentive', 'and avocado', 'and awesome', 'and baba', 'and baby', 'and bacon', 'and bad', 'and beautiful', 'and beer', 'and being', 'and bellies', 'and beyond', 'and biscuits', 'and bone', 'and both', 'and brunch', 'and butter', 'and came', 'and can', 'and cannoli', 'and cartel', 'and char', 'and checked', 'and cheek', 'and chewy', 'and chips', 'and comfortable', 'and company', 'and considering', 'and could', 'and court', 'and crab', 'and crusty', 'and delicious', 'and dessert', 'and did', 'and didn', 'and disrespected', 'and do', 'and don', 'and downright', 'and drinks', 'and dry', 'and each', 'and efficient', 'and eggs', 'and enjoyed', 'and enthusiastic', 'and especially', 'and even', 'and every', 'and everything', 'and exactly', 'and fast', 'and fat', 'and fell', 'and felt', 'and finally', 'and flavor', 'and flavorful', 'and flavorless', 'and food', 'and for', 'and forth', 'and fresh', 'and friendly', 'and fries', 'and funny', 'and fuzzy', 'and generous', 'and get', 'and giving', 'and good', 'and got', 'and great', 'and guess', 'and had', 'and hankering', 'and happy', 'and has', 'and have', 'and he', 'and healthy', 'and hearts', 'and helped', 'and helpful', 'and highly', 'and hip', 'and home', 'and house', 'and hummus', 'and ignore', 'and imaginative', 'and imagine', 'and inexpensive', 'and informative', 'and inviting', 'and it', 'and jeff', 'and judge', 'and just', 'and kept', 'and lacked', 'and last', 'and left', 'and like', 'and liked', 'and located', 'and longer', 'and look', 'and loudly', 'and loved', 'and made', 'and management', 'and manager', 'and might', 'and moist', 'and money', 'and more', 'and mostly', 'and neither', 'and no', 'and non', 'and not', 'and now', 'and obviously', 'and of', 'and once', 'and only', 'and our', 'and pepper', 'and personable', 'and pineapple', 'and polite', 'and pop', 'and portions', 'and pretty', 'and prices', 'and provided', 'and pulled', 'and rarely', 'and really', 'and reasonably', 'and refused', 'and rice', 'and roast', 'and rude', 'and salads', 'and sals', 'and salsa', 'and sandwiches', 'and sat', 'and seasoned', 'and seated', 'and service', 'and sewer', 'and she', 'and should', 'and smooth', 'and so', 'and soggy', 'and some', 'and someone', 'and sound', 'and special', 'and speedy', 'and stay', 'and still', 'and stuffed', 'and sweet', 'and talk', 'and taste', 'and tasted', 'and tasteless', 'and tasty', 'and tell', 'and tender', 'and texture', 'and that', 'and thats', 'and the', 'and their', 'and then', 'and there', 'and they', 'and thin', 'and think', 'and this', 'and thought', 'and time', 'and took', 'and tracked', 'and try', 'and under', 'and up', 'and ve', 'and very', 'and wait', 'and waited', 'and want', 'and was', 'and wasn', 'and watch', 'and watered', 'and way', 'and we', 'and were', 'and when', 'and will', 'and wish', 'and worse', 'and worst', 'and would', 'and wouldn', 'and wow', 'and yellow', 'and you', 'andddd date', 'angry and', 'annoying drunk', 'another 10', 'another 15', 'another 30', 'another 35', 'another dime', 'another human', 'another marrow', 'another said', 'another ten', 'any and', 'any firehouse', 'any grandmother', 'any item', 'any longer', 'any meat', 'any of', 'any restaurant', 'any stretch', 'any time', 'any way', 'anyone who', 'anything to', 'anytime soon', 'anyway do', 'anyway this', 'anyways the', 'apart picture', 'apologize for', 'apology when', 'appalling for', 'apparently they', 'appetite instantly', 'appetizer and', 'appetizers succulent', 'apple juice', 'are 100', 'are absolutely', 'are all', 'are also', 'are always', 'are amazing', 'are back', 'are both', 'are bought', 'are clean', 'are close', 'are combos', 'are cooked', 'are covered', 'are delicious', 'are delish', 'are fucking', 'are getting', 'are good', 'are great', 'are horrible', 'are in', 'are insanely', 'are just', 'are looking', 'are must', 'are not', 'are now', 'are ok', 'are preparing', 'are pretty', 'are raving', 'are reading', 'are really', 'are running', 'are small', 'are so', 'are spot', 'are starving', 'are staying', 'are super', 'are supposed', 'are the', 'are these', 'are to', 'are very', 'are way', 'are weak', 'are without', 'are you', 'area great', 'area is', 'area nice', 'aren as', 'aren ones', 'around 12', 'around for', 'around like', 'around mid', 'around twice', 'around us', 'array of', 'arrived one', 'arrived quickly', 'arrives it', 'arriving and', 'article we', 'as all', 'as always', 'as amazing', 'as an', 'as cheap', 'as close', 'as don', 'as for', 'as friendly', 'as good', 'as have', 'as if', 'as like', 'as many', 'as much', 'as opposed', 'as sushi', 'as the', 'as to', 'as tribute', 'as well', 'as were', 'as when', 'ask for', 'ask if', 'ask to', 'asked for', 'asked multiple', 'asking to', 'assure you', 'at all', 'at any', 'at bachi', 'at bellagio', 'at best', 'at bouchon', 'at dos', 'at during', 'at first', 'at gc', 'at good', 'at her', 'at home', 'at least', 'at mellow', 'at nobu', 'at one', 'at otto', 'at our', 'at postinos', 'at restaurants', 'at seating', 'at that', 'at the', 'at this', 'ate here', 'ate lunch', 'ate there', 'atmosphere friendly', 'atmosphere fun', 'atmosphere here', 'atmosphere is', 'atmosphere was', 'atrocious service', 'attached to', 'attack grill', 'attention to', 'attentive and', 'attentive as', 'attentive friendly', 'attentive providing', 'attitudes grow', 'attitudes towards', 'auju sauce', 'authentic about', 'authentic japanese', 'authentic mexican', 'authentic or', 'authentic thai', 'average at', 'average or', 'avocado salad', 'avoid at', 'avoid during', 'avoid this', 'avoided if', 'away from', 'away stuffed', 'away to', 'awesome burger', 'awesome if', 'awesome is', 'awesome offers', 'awesome place', 'awesome selection', 'awesome service', 'awesome the', 'awful service', 'awkward 5lb', 'awkwardly out', 'ayce sushi', 'az all', 'baba ganoush', 'baby greens', 'bachi burger', 'back again', 'back and', 'back anytime', 'back because', 'back can', 'back cold', 'back every', 'back for', 'back here', 'back many', 'back my', 'back next', 'back there', 'back to', 'back today', 'back unless', 'back ya', 'bacon bits', 'bacon is', 'bacon wrapped', 'bad cause', 'bad customer', 'bad day', 'bad enough', 'bad experience', 'bad food', 'bad had', 'bad he', 'bad reviewing', 'bad service', 'bad the', 'bagels from', 'bagels good', 'bakery cafe', 'bakery on', 'baklava falafels', 'bamboo shoots', 'banana was', 'bank holiday', 'bar and', 'bar area', 'bar food', 'bar is', 'bar not', 'bare hands', 'barely edible', 'barely lukewarm', 'barely stomach', 'barely tepid', 'barely touched', 'bars in', 'bars with', 'bartender was', 'bartenders are', 'baseball steak', 'based on', 'basically figured', 'basically lettuce', 'batch of', 'bathroom is', 'bathroom mid', 'bathrooms are', 'bathrooms at', 'batter on', 'batter to', 'bay area', 'bay plater', 'bay was', 'bbq lighter', 'be acknowledged', 'be amazing', 'be an', 'be avoided', 'be back', 'be blown', 'be coming', 'be desired', 'be despicable', 'be dining', 'be disappointed', 'be eating', 'be getting', 'be going', 'be happier', 'be happy', 'be here', 'be honest', 'be impressed', 'be in', 'be missed', 'be nice', 'be over', 'be part', 'be placed', 'be regular', 'be returning', 'be revisiting', 'be right', 'be running', 'be rushed', 'be seated', 'be so', 'be soooo', 'be spot', 'be sure', 'be the', 'be to', 'be treated', 'bean stir', 'beans and', 'beans that', 'beat it', 'beat that', 'beat the', 'beat this', 'beautiful presentation', 'beautiful setting', 'beauty this', 'because everything', 'because felt', 'because it', 'because no', 'because our', 'because she', 'because the', 'because they', 'because was', 'because we', 'become 35', 'become regular', 'beef cooked', 'beef is', 'beef sandwich', 'beef were', 'been an', 'been awesome', 'been back', 'been bad', 'been going', 'been great', 'been here', 'been hilarious', 'been hoping', 'been horrible', 'been in', 'been made', 'been more', 'been sitting', 'been somewhat', 'been stepped', 'been to', 'been treated', 'been twice', 'beer didn', 'beer drink', 'beer for', 'beer ice', 'beer selection', 'beers on', 'before being', 'before go', 'before night', 'before struggle', 'before the', 'before they', 'before we', 'before will', 'before writing', 'begin to', 'behind the', 'being acknowledged', 'being charged', 'being helped', 'being ignored', 'being kept', 'being like', 'being nice', 'being nude', 'being seated', 'being served', 'being soggy', 'being soooooo', 'being wayyy', 'believe how', 'believe that', 'bellagio was', 'bellies were', 'belly and', 'belly will', 'below average', 'besides costco', 'best and', 'best bars', 'best breakfast', 'best brick', 'best buffet', 'best but', 'best cheese', 'best cheesecurds', 'best entrees', 'best fish', 'best food', 'best hot', 'best iced', 'best of', 'best place', 'best places', 'best seafood', 'best service', 'best steak', 'best tacos', 'best tater', 'best thing', 'better and', 'better at', 'better atmosphere', 'better bagels', 'better buffets', 'better food', 'better not', 'better overall', 'better service', 'better than', 'better word', 'between good', 'between us', 'beyond bad', 'beyond what', 'big bay', 'big deal', 'big winner', 'bigger than', 'biggest fail', 'bill but', 'bill since', 'bill to', 'binge drinking', 'bird poop', 'bisque bussell', 'bisque soup', 'bit disappointed', 'bit disappointing', 'bit lacking', 'bit more', 'bit of', 'bit strange', 'bit too', 'bite of', 'bite was', 'bites and', 'bites of', 'bits on', 'black eyed', 'black olives', 'blame needs', 'bland and', 'bland food', 'bland not', 'bland so', 'bland the', 'bland vinegrette', 'blandest food', 'blanket of', 'block was', 'bloddy mary', 'bloodiest piece', 'bloody mary', 'blown up', 'blue shirt', 'boba and', 'boba tea', 'bodes for', 'boiled shrimp', 'bone marrow', 'book somethat', 'boot but', 'both drastically', 'both great', 'both of', 'both parties', 'both the', 'both to', 'both were', 'bother coming', 'bother me', 'bought not', 'bowl next', 'bowl of', 'box and', 'boy on', 'boy was', 'boyfriend and', 'boyfriend tried', 'boys and', 'bread and', 'bread app', 'bread is', 'bread was', 'bread with', 'break up', 'break while', 'breakfast buffet', 'breakfast could', 'breakfast especially', 'breakfast here', 'breakfast just', 'breakfast lunch', 'breakfast was', 'breaks down', 'breeze mango', 'brick oven', 'bring it', 'bring that', 'bring the', 'bring two', 'bring us', 'brings me', 'brisket and', 'brother in', 'brought fresh', 'brought salad', 'brought the', 'brownish in', 'brunch fail', 'brunch spot', 'bruschetta all', 'brushfire it', 'bucks head', 'buffet and', 'buffet at', 'buffet experience', 'buffet in', 'buffet is', 'buffet setting', 'buffet spot', 'buffets that', 'bug never', 'bug was', 'building itself', 'building was', 'buldogis gourmet', 'bunch of', 'burger and', 'burger before', 'burger fries', 'burger got', 'burger had', 'burger is', 'burger on', 'burger rare', 'burger was', 'burgers are', 'burgers aren', 'burgers were', 'burned the', 'burrittos blah', 'bus boy', 'business and', 'business dinner', 'business lunch', 'business won', 'businesses its', 'bussell sprouts', 'busy at', 'busy either', 'but after', 'but all', 'but better', 'but can', 'but definitely', 'but delicious', 'but did', 'but didn', 'but do', 'but don', 'but editing', 'but elegantly', 'but ended', 'but even', 'but fails', 'but feel', 'but found', 'but it', 'but just', 'but love', 'but more', 'but my', 'but never', 'but no', 'but not', 'but nothing', 'but now', 'but on', 'but petrified', 'but somehow', 'but still', 'but that', 'but the', 'but then', 'but they', 'but think', 'but this', 'but unfortunately', 'but ve', 'but was', 'but won', 'but would', 'but wouldn', 'butter and', 'butter mmmm', 'by accident', 'by all', 'by an', 'by any', 'by aria', 'by drawing', 'by during', 'by far', 'by going', 'by great', 'by people', 'by readers', 'by some', 'by the', 'by this', 'bye bye', 'bye to', 'caballero and', 'caesar salad', 'cafe nice', 'cafe serves', 'cafe was', 'café before', 'cake ohhh', 'cakes everyone', 'calamari was', 'call yourself', 'calligraphy wall', 'came and', 'came around', 'came back', 'came here', 'came in', 'came out', 'came running', 'came to', 'came with', 'camelback flower', 'can assure', 'can beat', 'can come', 'can cook', 'can definitely', 'can dine', 'can even', 'can get', 'can go', 'can make', 'can only', 'can properly', 'can say', 'can take', 'can tell', 'can think', 'can wait', 'can watch', 'can you', 'cannoli are', 'cannot beat', 'cannot believe', 'cant go', 'cant say', 'cape cod', 'capers even', 'car breaks', 'car waited', 'carbs in', 'care less', 'care what', 'caring teamwork', 'carly anytime', 'carpaccio was', 'cartel coffee', 'case even', 'cash only', 'cashew cream', 'cashier had', 'cashier was', 'casino before', 'caterpillar in', 'caught them', 'cause know', 'cavier that', 'certainly bad', 'chai latte', 'chains which', 'changing food', 'char and', 'char on', 'charcoal flavor', 'charcoal grill', 'charge 11', 'charged for', 'charming outdoor', 'cheap let', 'cheap quality', 'cheated for', 'check it', 'check on', 'check out', 'check when', 'checked on', 'checked out', 'cheek tacos', 'cheese crisp', 'cheese on', 'cheese real', 'cheeseburger got', 'cheesecurds we', 'chef his', 'chef was', 'chefs were', 'chewy almost', 'chewy in', 'chicken better', 'chicken caesar', 'chicken dishes', 'chicken fried', 'chicken got', 'chicken meat', 'chicken on', 'chicken pho', 'chicken salad', 'chicken tenders', 'chicken was', 'chicken wings', 'chicken with', 'chicken wrap', 'chickens with', 'chinese calligraphy', 'chinese restaurant', 'chip order', 'chipolte ranch', 'chipotle but', 'chips and', 'chips are', 'chips that', 'chips were', 'chips when', 'chips with', 'chocolate milk', 'choose from', 'choux pastry', 'chow mein', 'christmas eve', 'cibo any', 'circumstances would', 'claimed we', 'class dining', 'classic maine', 'classics and', 'classy warm', 'clean and', 'clean but', 'clean friendly', 'climbing was', 'close as', 'close to', 'closed down', 'club and', 'clue as', 'cocktail which', 'cocktails are', 'coconut shrimp', 'cod ravoli', 'coffee cafe', 'cold and', 'cold dishes', 'cold not', 'cold or', 'cold they', 'college cooking', 'color and', 'color instead', 'combination of', 'combo or', 'combos like', 'come across', 'come again', 'come back', 'come here', 'come hungry', 'come in', 'come out', 'coming any', 'coming back', 'coming from', 'coming here', 'coming in', 'common sense', 'companions told', 'company was', 'complain about', 'complain because', 'complaints that', 'complete overhaul', 'completely delightful', 'completely grossed', 'compliments to', 'con spotty', 'concept or', 'concern at', 'conclusion very', 'condiment dispenser', 'connisseur on', 'connoisseur but', 'consider this', 'considering that', 'considering the', 'considering this', 'consistent with', 'contain peanuts', 'contained the', 'containers as', 'continue to', 'convenient location', 'convenient since', 'cook can', 'cook steak', 'cooked in', 'cooked just', 'cooked over', 'cooked perfectly', 'cooked to', 'cooking course', 'cool dude', 'cool when', 'cool would', 'corn beateous', 'corporation will', 'correction our', 'cotta was', 'could barely', 'could be', 'could care', 'could eat', 'could have', 'could not', 'could probably', 'could serve', 'could tell', 'could use', 'could you', 'couldn ask', 'couldn pay', 'couldn wait', 'count how', 'couple drinks', 'couple of', 'couple years', 'couples small', 'course than', 'course there', 'course we', 'court staff', 'cover up', 'covered with', 'covers were', 'cow that', 'cow tongue', 'crab legs', 'cramming it', 'cranberry mmmm', 'craving while', 'crawfish experience', 'crazy about', 'crazy crowds', 'cream cheese', 'cream for', 'cream sauce', 'cream was', 'creamy and', 'crema café', 'crepe station', 'crisp in', 'crispy and', 'crispy chicken', 'crostini that', 'croutons also', 'crowd around', 'crowd is', 'crowds of', 'crumby and', 'crust is', 'crust teeth', 'crusty and', 'crystals shopping', 'crêpe was', 'curry had', 'curry lovers', 'customer service', 'customers and', 'customers don', 'customize your', 'cut off', 'cut than', 'cute quaint', 'daily specials', 'damn generic', 'damn good', 'damn pho', 'damn wings', 'dark and', 'dark enough', 'date night', 'day and', 'day because', 'day but', 'day it', 'day of', 'day or', 'dead wrong', 'deal and', 'deal good', 'deal included', 'deal is', 'deal with', 'dealing with', 'decent deal', 'decent hamburger', 'decided not', 'decided to', 'decision honestly', 'decor is', 'decor with', 'decorated and', 'dedicated boba', 'deep fried', 'deeply disappointed', 'def coming', 'definately enjoyed', 'definately go', 'definitely be', 'definitely did', 'definitely go', 'definitely lost', 'definitely not', 'definitely one', 'definitely place', 'definitely recommend', 'definitely reheated', 'definitely tell', 'definitely turn', 'definitely will', 'definitely worth', 'definitely would', 'del taco', 'delicate and', 'delicious and', 'delicious each', 'delicious food', 'delicious meats', 'delicious nyc', 'delicious our', 'deliciously seasoned', 'delight are', 'delightful experience', 'delights folks', 'delish and', 'delish mixed', 'delish tuna', 'delivery man', 'denny which', 'describing the', 'descriptions said', 'deserves no', 'deserves one', 'deserves stars', 'despicable but', 'despite how', 'dessert and', 'dessert even', 'dessert panna', 'dessert section', 'desserts were', 'deuchebaggery and', 'did bother', 'did good', 'did great', 'did have', 'did like', 'did not', 'did or', 'did terrible', 'didn bring', 'didn complain', 'didn enjoy', 'didn expect', 'didn help', 'didn know', 'didn look', 'didn mind', 'didn over', 'didn skimp', 'didn taste', 'didn use', 'didn want', 'die for', 'difference between', 'different cut', 'different deal', 'different occasions', 'dime from', 'dine at', 'dine in', 'dining and', 'dining at', 'dining establishment', 'dining experience', 'dining here', 'dining room', 'dining space', 'dining used', 'dinner companions', 'dinner dollars', 'dinner on', 'dinner to', 'dinner we', 'dinner which', 'dipping sause', 'dirty fish', 'dirty lot', 'dirty seat', 'dirty the', 'disagree with', 'disappointed although', 'disappointed ordered', 'disappointed was', 'disappointed with', 'disappointed won', 'disappointing dining', 'disappointing dinner', 'disappointing experience', 'disappointment ensued', 'disappointment was', 'disapppointment with', 'disaster tailored', 'disbelief each', 'disgust with', 'disgusted because', 'dish but', 'dish is', 'dish options', 'dish qualified', 'dish that', 'dish was', 'dishes after', 'dishes are', 'dishes otherwise', 'dishes taste', 'dishes the', 'dishes were', 'disrespected how', 'diverse and', 'do it', 'do love', 'do not', 'do recommend', 'do with', 'do you', 'do yourself', 'does beat', 'does everything', 'dog and', 'dog in', 'doing shots', 'dollars elsewhere', 'don always', 'don bother', 'don do', 'don each', 'don enjoy', 'don get', 'don go', 'don have', 'don know', 'don like', 'don mind', 'don recommend', 'don think', 'don understand', 'don want', 'don waste', 'don you', 'done 100', 'done or', 'done to', 'done with', 'dont go', 'dont think', 'donut place', 'door and', 'door than', 'dos gringos', 'double cheeseburger', 'doubt ll', 'doubt the', 'douchey indoor', 'doughy and', 'down family', 'down in', 'down my', 'down note', 'down one', 'down service', 'down to', 'down with', 'downright terrible', 'downside is', 'downtown juries', 'downtown vegas', 'drag me', 'drastically sick', 'drawing out', 'dreamed of', 'drenched in', 'dressed up', 'dressing literally', 'dressing was', 'dried out', 'driest chicken', 'driest damn', 'drink and', 'drink menu', 'drink selection', 'drink was', 'drinking just', 'drinks and', 'drinks are', 'drinks took', 'dripping with', 'drive all', 'drive thru', 'drive to', 'driving up', 'dropped more', 'drunk people', 'dry as', 'dry had', 'duck rare', 'duck was', 'due to', 'duo of', 'during dinner', 'during our', 'during the', 'during weekend', 'dusted with', 'dylan for', 'each day', 'each dish', 'each much', 'each one', 'each time', 'eat airline', 'eat any', 'eat anymore', 'eat at', 'eat besides', 'eat here', 'eat in', 'eat it', 'eat reminds', 'eat that', 'eat the', 'eat their', 'eaten here', 'eaten thai', 'eaten when', 'eating and', 'eating at', 'eating here', 'eating opportunity', 'eating there', 'eclectic selection', 'edinburgh establishment', 'editing it', 'eel sauce', 'eew this', 'effort to', 'egg breakfast', 'egg flower', 'egg rolls', 'eggplant with', 'eggs is', 'either also', 'either of', 'either too', 'elegantly decorated', 'elk filet', 'else is', 'else where', 'elsewhere for', 'employee came', 'employees that', 'empty and', 'empty so', 'end up', 'ended up', 'english muffin', 'enjoy dealing', 'enjoy is', 'enjoy the', 'enjoy their', 'enjoyable relaxed', 'enjoyed crema', 'enjoyed eating', 'enjoyed every', 'enjoyed ourselves', 'enjoyed the', 'enough and', 'enough flavor', 'enough for', 'enough good', 'enough of', 'enough perfect', 'enough so', 'enough that', 'enough to', 'enthusiastic real', 'entire trip', 'entrees at', 'equally awful', 'equally satisfying', 'equally special', 'especially cool', 'especially enjoyed', 'especially for', 'establishment again', 'establishment won', 'ethic food', 'eve dinner', 'even apologize', 'even brought', 'even came', 'even colder', 'even find', 'even from', 'even hello', 'even if', 'even needed', 'even says', 'even so', 'even the', 'even though', 'even to', 'even told', 'even with', 'evening him', 'evening was', 'event held', 'events as', 'ever came', 'ever come', 'ever eat', 'ever eaten', 'ever go', 'ever had', 'ever maria', 'ever on', 'ever recall', 'ever recommended', 'ever return', 'ever step', 'ever tasted', 'ever thought', 'every hope', 'every meal', 'every mouthful', 'every once', 'every other', 'every time', 'every week', 'everyone are', 'everyone is', 'everyone to', 'everything is', 'everything on', 'everything pretty', 'everything ve', 'everything was', 'everything we', 'everywhere pile', 'exactly what', 'excalibur but', 'exceeding every', 'excellent and', 'excellent customer', 'excellent new', 'excellent pasta', 'excellent restaurant', 'excellent sandwich', 'excellent service', 'exceptional and', 'excuse for', 'expanded even', 'expect better', 'expect little', 'expect more', 'expect this', 'expected but', 'expected it', 'experience and', 'experience at', 'experience ever', 'experience good', 'experience has', 'experience is', 'experience made', 'experience some', 'experience still', 'experience was', 'experienced frenchman', 'experiencing an', 'expert connisseur', 'extensive menu', 'extra plus', 'extra to', 'extraordinary and', 'extremely crumby', 'extremely rude', 'extremely slow', 'extremely tasty', 'eyed peas', 'eyes we', 'fabulous vinegrette', 'fact going', 'fact it', 'fact that', 'fail of', 'fails to', 'fair at', 'fairly clean', 'fairly fast', 'falafels and', 'falling apart', 'familiar check', 'familiar pub', 'family atmosphere', 'family dinner', 'family groups', 'family meal', 'family owned', 'family restaurant', 'famous for', 'fan because', 'fan of', 'fancy affordable', 'fantastic afternoon', 'fantastic and', 'fantastic food', 'fantastic neighborhood', 'fantastic service', 'fantastic thai', 'far and', 'far from', 'far have', 'far the', 'far too', 'fare but', 'fare reasonable', 'fast and', 'fast but', 'fast service', 'fav vegas', 'favor and', 'favorite italian', 'favorite place', 'fear of', 'feel all', 'feel awkwardly', 'feel cheated', 'feel like', 'feel of', 'feel so', 'feel to', 'feel very', 'feeling quite', 'feeling with', 'feels like', 'fell flat', 'fell in', 'fella got', 'fellow yelpers', 'felt disgusting', 'felt disrespected', 'felt insulted', 'felt like', 'felt sick', 'felt the', 'felt too', 'few bars', 'few bites', 'few friends', 'few people', 'few place', 'few places', 'few times', 'fiancé and', 'figured out', 'filet all', 'filet special', 'fill up', 'fillet relleno', 'filling at', 'filling meals', 'final blow', 'finally gave', 'finally served', 'find hours', 'find in', 'find wasting', 'fine and', 'fine dining', 'finger at', 'finish great', 'finish it', 'fireball behind', 'first 10', 'first and', 'first crawfish', 'first glance', 'first had', 'first say', 'first taste', 'first the', 'first time', 'first vegas', 'first visit', 'fish and', 'fish market', 'fish prepared', 'fish ve', 'fish was', 'five minutes', 'flair bartenders', 'flat lined', 'flat way', 'flavor and', 'flavor or', 'flavor seemed', 'flavor the', 'flavor to', 'flavorful and', 'flavorful delights', 'flavorless is', 'flavors are', 'flirting with', 'flower shop', 'flower soups', 'fluffy and', 'fly was', 'fo take', 'focused new', 'focused so', 'folks at', 'folks waiting', 'fondue it', 'food amazing', 'food and', 'food arrived', 'food arrives', 'food arriving', 'food at', 'food but', 'food came', 'food delicious', 'food ever', 'food for', 'food from', 'food go', 'food good', 'food great', 'food have', 'food here', 'food impeccable', 'food in', 'food including', 'food is', 'food isn', 'food oh', 'food only', 'food or', 'food out', 'food poisoning', 'food quality', 'food selection', 'food seriously', 'food service', 'food should', 'food simply', 'food sucked', 'food sucks', 'food the', 'food they', 'food to', 'food try', 'food until', 'food was', 'food wasn', 'food which', 'food with', 'food wonderful', 'foods have', 'foot into', 'for 00', 'for 10', 'for 20', 'for 23', 'for 40', 'for about', 'for and', 'for another', 'for authentic', 'for being', 'for better', 'for breakfast', 'for couples', 'for curry', 'for dessert', 'for disapppointment', 'for everyone', 'for fear', 'for food', 'for forty', 'for good', 'for gyros', 'for half', 'for happy', 'for her', 'for his', 'for hot', 'for it', 'for lack', 'for lunch', 'for me', 'for mediocre', 'for more', 'for my', 'for number', 'for our', 'for pancakes', 'for restaurant', 'for rude', 'for sandwich', 'for second', 'for self', 'for service', 'for shawarrrrrrma', 'for sit', 'for smoke', 'for someone', 'for special', 'for spicier', 'for sure', 'for sushi', 'for tap', 'for tasty', 'for tea', 'for that', 'for the', 'for their', 'for them', 'for thirty', 'for this', 'for those', 'for us', 'for value', 'for vegan', 'for very', 'for wasting', 'for well', 'for what', 'for you', 'for your', 'forever to', 'forgetting things', 'forth several', 'forty five', 'forward in', 'found kabuki', 'found live', 'found out', 'found six', 'found some', 'found this', 'four stars', 'francisco bay', 'freaking sandwich', 'free several', 'freezing cold', 'fresh and', 'fresh appetizers', 'fresh batch', 'fresh enough', 'fresh fish', 'fresh white', 'fresh with', 'fridays totally', 'fried in', 'fried noodles', 'fried rice', 'fried steak', 'friend burger', 'friend did', 'friend loved', 'friend pasta', 'friend recommendation', 'friendly and', 'friendly kind', 'friendly servers', 'friendly service', 'friendly setting', 'friendly she', 'friendly staff', 'friendly the', 'friendly until', 'friends and', 'friends really', 'friends they', 'fries and', 'fries are', 'fries that', 'fries ve', 'fries were', 'from brushfire', 'from dedicated', 'from here', 'from jenni', 'from me', 'from north', 'from not', 'from owners', 'from recommending', 'from restaurant', 'from sushi', 'from the', 'from this', 'from tucson', 'from what', 'from you', 'front of', 'frozen margaritas', 'frozen meatballs', 'frozen pucks', 'fruit was', 'fry love', 'fry on', 'fs restaurant', 'fucking small', 'full and', 'full but', 'full petty', 'full shower', 'fun and', 'fun chef', 'fun experience', 'further away', 'furthermore you', 'fuzzy inside', 'ganoush it', 'garden for', 'garlic and', 'garlic in', 'gas station', 'gave it', 'gave star', 'gave up', 'generous in', 'generous portions', 'generous with', 'genuinely pleasant', 'get arepas', 'get awesome', 'get breakfast', 'get go', 'get good', 'get incredibly', 'get inside', 'get it', 'get my', 'get our', 'get passed', 'get smaller', 'get so', 'get some', 'get their', 'get there', 'get together', 'get what', 'gets my', 'getting angry', 'getting food', 'getting quite', 'getting screwed', 'getting sick', 'getting that', 'getting worse', 'giant slices', 'girlfriend veal', 'give it', 'give military', 'give star', 'give them', 'given for', 'given godfathers', 'giving it', 'glad we', 'glance it', 'glass wine', 'gloves everything', 'gluten free', 'go again', 'go back', 'go else', 'go for', 'go here', 'go in', 'go now', 'go orders', 'go outside', 'go the', 'go there', 'go to', 'go was', 'go wrong', 'goat taco', 'godfathers zero', 'going back', 'going but', 'going down', 'going gluten', 'going here', 'going out', 'going since', 'going there', 'going to', 'gold puree', 'gold standard', 'golden crispy', 'gone here', 'good am', 'good and', 'good as', 'good at', 'good bbq', 'good because', 'good beef', 'good beer', 'good but', 'good by', 'good enough', 'good food', 'good for', 'good job', 'good joint', 'good lunch', 'good meal', 'good nice', 'good one', 'good pace', 'good pizza', 'good prices', 'good quick', 'good rice', 'good selection', 'good selections', 'good service', 'good side', 'good sign', 'good steak', 'good stuff', 'good sushi', 'good the', 'good thing', 'good things', 'good though', 'good time', 'good value', 'good way', 'good we', 'good when', 'google mediocre', 'gordon ramsey', 'got either', 'got food', 'got full', 'got great', 'got home', 'got one', 'got outta', 'got sick', 'got single', 'got sitting', 'got table', 'got the', 'got to', 'got was', 'gotten much', 'gourmet hot', 'grab bite', 'grain pumpkin', 'grandmother can', 'gratitude for', 'gratuity on', 'grease and', 'grease trap', 'greasy unhealthy', 'great and', 'great as', 'great atmosphere', 'great brunch', 'great but', 'great customer', 'great deal', 'great dinners', 'great double', 'great even', 'great experience', 'great food', 'great job', 'great list', 'great menu', 'great mesquite', 'great mexican', 'great people', 'great pizza', 'great place', 'great pork', 'great quality', 'great restaurant', 'great service', 'great side', 'great sides', 'great simple', 'great steak', 'great stop', 'great subway', 'great taste', 'great the', 'great time', 'great too', 'great touch', 'great vibe', 'great way', 'great wine', 'great with', 'greatest of', 'greedy corporation', 'greek dressing', 'greek salad', 'green bean', 'green bird', 'green caterpillar', 'greens and', 'greeted and', 'grill but', 'grill in', 'grilled chicken', 'grilled pizza', 'gristle and', 'grocery store', 'grossed out', 'ground right', 'group of', 'groups etc', 'grow rapidly', 'guacamole as', 'guess maybe', 'guess should', 'guess what', 'guest for', 'guests as', 'guy in', 'guy who', 'guys all', 'gyro was', 'gyros was', 'ha long', 'had about', 'had absolutely', 'had an', 'had anything', 'had at', 'had basically', 'had been', 'had better', 'had bland', 'had completely', 'had fantastic', 'had few', 'had for', 'had great', 'had group', 'had happened', 'had heard', 'had high', 'had in', 'had it', 'had just', 'had left', 'had lost', 'had lunch', 'had never', 'had no', 'had not', 'had one', 'had perfect', 'had pho', 'had pretty', 'had really', 'had salad', 'had sauces', 'had seriously', 'had so', 'had soon', 'had steak', 'had steaks', 'had strawberry', 'had such', 'had sushi', 'had the', 'had to', 'had toro', 'had zero', 'hadn wasted', 'hair in', 'half an', 'half of', 'half the', 'han nan', 'hand made', 'hand was', 'handed to', 'handled us', 'handling our', 'handmade and', 'hands down', 'hands no', 'hankering for', 'happened next', 'happy about', 'happy and', 'happy decided', 'happy for', 'happy hour', 'happy to', 'happy you', 'hard enough', 'hard rate', 'hard rock', 'hard to', 'hardest decision', 'hardly any', 'has always', 'has been', 'has family', 'has great', 'has had', 'has it', 'has just', 'has lot', 'has no', 'has so', 'has to', 'has wide', 'has wonderful', 'hasn closed', 'hate those', 'hate to', 'hated her', 'haunt but', 'have 40', 'have an', 'have been', 'have couple', 'have different', 'have done', 'have dreamed', 'have eaten', 'have ever', 'have flavor', 'have given', 'have good', 'have gotten', 'have great', 'have had', 'have hit', 'have horrible', 'have imagined', 'have is', 'have it', 'have known', 'have lot', 'have much', 'have my', 'have never', 'have no', 'have only', 'have plethora', 'have really', 'have refrained', 'have stayed', 'have the', 'have to', 'have told', 'have very', 'have watched', 'haven gone', 'having heart', 'hawaiian breeze', 'he added', 'he also', 'he barely', 'he came', 'he deserves', 'he ever', 'he expected', 'he found', 'he humiliated', 'he looked', 'he made', 'he realized', 'he stayed', 'he was', 'head really', 'heads cut', 'healthy authentic', 'healthy but', 'healthy during', 'heard good', 'heard of', 'heart attack', 'heart this', 'heart to', 'hearts of', 'heimer sucked', 'held here', 'hell no', 'hella salty', 'hello we', 'helped with', 'helpful and', 'helpful or', 'helpful which', 'helpful with', 'her door', 'her forever', 'her meal', 'her poor', 'her salad', 'here again', 'here and', 'here anytime', 'here are', 'here at', 'here because', 'here did', 'here every', 'here for', 'here go', 'here had', 'here has', 'here in', 'here is', 'here last', 'here leaves', 'here multiple', 'here on', 'here same', 'here see', 'here several', 'here since', 'here they', 'here what', 'here would', 'hereas tribute', 'hi for', 'high class', 'high hopes', 'high quality', 'highlight of', 'highlighted by', 'highlights great', 'highly recommend', 'highly recommended', 'highly unprofessional', 'hilarious yummy', 'him and', 'hip and', 'hip while', 'hiro was', 'his bloody', 'his great', 'his one', 'his sunglasses', 'his time', 'his worker', 'hit the', 'hit too', 'hit up', 'hit with', 'hits the', 'hole in', 'holiday off', 'home made', 'home she', 'home to', 'homemade dough', 'homemade hand', 'homemade which', 'honeslty it', 'honest yama', 'honestly all', 'honestly be', 'honor pizza', 'hope could', 'hope this', 'hope your', 'hopefully this', 'hopes for', 'hoping to', 'horrible and', 'horrible attitudes', 'horrible don', 'horrible name', 'horrible no', 'hospitality industry', 'host staff', 'hostess and', 'hot and', 'hot bread', 'hot chai', 'hot cold', 'hot dishes', 'hot dog', 'hot sour', 'hottest person', 'hour and', 'hour for', 'hour great', 'hour seriously', 'hour to', 'hours never', 'hours of', 'house it', 'house made', 'how awesome', 'how can', 'how could', 'how dirty', 'how disappointed', 'how do', 'how hard', 'how joey', 'how long', 'how many', 'how they', 'how this', 'how to', 'how vegas', 'however my', 'however there', 'huevos rancheros', 'huge awkward', 'huge belly', 'huge it', 'huge portions', 'human being', 'human hair', 'humiliated his', 'hummus and', 'hummus pita', 'hummus was', 'hunan style', 'hungry leave', 'hurry to', 'husband and', 'husband had', 'husband said', 'hut coupons', 'ians and', 'ice cocktail', 'ice cold', 'ice cream', 'iced tea', 'idea of', 'if had', 'if hadn', 'if it', 'if possible', 'if she', 'if someone', 'if that', 'if the', 'if there', 'if they', 'if we', 'if you', 'ignore us', 'ignored went', 'im in', 'imaginative menu', 'imagine smashburger', 'immediately got', 'immediately said', 'impressed and', 'impressed but', 'impressed with', 'impressive that', 'in all', 'in an', 'in and', 'in az', 'in between', 'in charming', 'in clean', 'in color', 'in downtown', 'in fact', 'in for', 'in front', 'in good', 'in her', 'in house', 'in hurry', 'in it', 'in las', 'in later', 'in law', 'in little', 'in love', 'in madison', 'in mayo', 'in more', 'in my', 'in nearly', 'in nice', 'in not', 'in nutshell', 'in oil', 'in paradise', 'in philadelphia', 'in phoenix', 'in portion', 'in quantity', 'in restaurant', 'in service', 'in slow', 'in soon', 'in summary', 'in that', 'in the', 'in this', 'in to', 'in town', 'in two', 'in vain', 'in vegas', 'in we', 'in while', 'in your', 'inch long', 'included tastings', 'including massive', 'inconsiderate management', 'incredible beer', 'incredible nay', 'incredibly fresh', 'indian cuisine', 'indian naan', 'indicate cash', 'indoor garden', 'industry in', 'inexpensive to', 'inflate portions', 'ingredients were', 'insanely good', 'inside is', 'inside of', 'inside the', 'inside with', 'inside you', 'inspired to', 'instantly gone', 'instead of', 'insulted and', 'insulted or', 'insults profound', 'interesting decor', 'interesting part', 'interesting yet', 'interior is', 'into that', 'into this', 'ironman very', 'is about', 'is all', 'is also', 'is always', 'is amazing', 'is an', 'is awesome', 'is better', 'is big', 'is bit', 'is but', 'is buying', 'is combo', 'is convenient', 'is courteous', 'is decent', 'is deep', 'is definitely', 'is delicious', 'is delish', 'is devine', 'is disgrace', 'is disgusting', 'is dish', 'is diverse', 'is doughy', 'is eggplant', 'is especially', 'is extremely', 'is fair', 'is fast', 'is fine', 'is friendly', 'is fun', 'is going', 'is good', 'is great', 'is hands', 'is hella', 'is home', 'is horrible', 'is how', 'is impressive', 'is in', 'is inside', 'is jewel', 'is just', 'is like', 'is lovely', 'is made', 'is modern', 'is music', 'is my', 'is nasty', 'is nice', 'is no', 'is none', 'is not', 'is nothing', 'is of', 'is one', 'is out', 'is outside', 'is overpriced', 'is perfect', 'is place', 'is pleasant', 'is pretty', 'is pricey', 'is quick', 'is quite', 'is rarely', 'is really', 'is reasonable', 'is rich', 'is rude', 'is simply', 'is small', 'is so', 'is some', 'is soooo', 'is such', 'is super', 'is terrific', 'is that', 'is the', 'is tiny', 'is to', 'is treated', 'is two', 'is vegas', 'is very', 'is was', 'is way', 'is well', 'is wonderful', 'is worth', 'is your', 'isn bad', 'isn much', 'isn small', 'it again', 'it all', 'it also', 'it amazing', 'it and', 'it at', 'it back', 'it came', 'it close', 'it could', 'it dark', 'it definitely', 'it did', 'it didn', 'it does', 'it empty', 'it exceeding', 'it family', 'it feels', 'it for', 'it friendly', 'it great', 'it had', 'it in', 'it is', 'it just', 'it kept', 'it lacked', 'it like', 'it live', 'it ll', 'it low', 'it may', 'it meh', 'it more', 'it must', 'it not', 'it only', 'it out', 'it publicly', 'it puréed', 'it quick', 'it really', 'it shouldn', 'it so', 'it stars', 'it still', 'it sucked', 'it sure', 'it tasted', 'it that', 'it thumbs', 'it to', 'it too', 'it took', 'it try', 'it was', 'it wasn', 'it were', 'it with', 'it worth', 'it zero', 'italian pizza', 'italian restaurant', 'item on', 'its actually', 'its real', 'itself is', 'itself seems', 'itself was', 'jalapeno bacon', 'jamaican mojitos', 'japanese cool', 'jeff went', 'jenni pho', 'jewel in', 'job handling', 'job to', 'joey was', 'join the', 'joint is', 'joke and', 'joy quite', 'judge another', 'judge whether', 'judging by', 'juice fly', 'juries lawyers', 'just as', 'just bad', 'just be', 'just beautiful', 'just because', 'just can', 'just check', 'just dark', 'just don', 'just go', 'just had', 'just like', 'just nasty', 'just next', 'just not', 'just plain', 'just right', 'just screams', 'just spicy', 'just the', 'just their', 'just to', 'just wanted', 'just warm', 'just wasn', 'kabuki to', 'kept forgetting', 'kept getting', 'kept looking', 'kept the', 'kept under', 'key non', 'khao soi', 'kid meal', 'kids pizza', 'kids play', 'killer hot', 'kind it', 'kind of', 'kind staff', 'know getting', 'know how', 'know it', 'know pulled', 'know that', 'know this', 'know what', 'know why', 'known that', 'lack of', 'lacked flavor', 'lacked style', 'lacking in', 'ladies night', 'ladies that', 'lady at', 'large at', 'large rowdy', 'large seating', 'large smeared', 'largely disappointing', 'larger than', 'las vegas', 'last night', 'last time', 'last times', 'last visit', 'lastly the', 'late may', 'later did', 'later returned', 'law who', 'lawyers and', 'least 40min', 'least of', 'least once', 'least think', 'leave happy', 'leave it', 'leave without', 'leaves lot', 'left feeling', 'left his', 'left there', 'left very', 'left with', 'leftover day', 'legit in', 'legit italian', 'legs but', 'legs definitely', 'lemon raspberry', 'less the', 'let alone', 'let be', 'let them', 'letdown would', 'letting us', 'lettuce only', 'level spicy', 'life there', 'light and', 'lighter fare', 'lighting is', 'lightly dusted', 'like an', 'like at', 'like authentic', 'like bar', 'like buffet', 'like burger', 'like chickens', 'like chipotle', 'like combination', 'like dirt', 'like experiencing', 'like good', 'like had', 'like he', 'like his', 'like it', 'like my', 'like really', 'like rubber', 'like she', 'like shoe', 'like steiners', 'like strings', 'like sugary', 'like that', 'like the', 'like their', 'like there', 'like this', 'like to', 'like tomato', 'like was', 'like we', 'liked the', 'likes beer', 'liking this', 'lil tapas', 'limited to', 'lined excuse', 'list and', 'list of', 'literally had', 'literally ice', 'literally sat', 'little bad', 'little bit', 'little mom', 'little overwhelmed', 'little paper', 'little restaurant', 'little slow', 'little vegetables', 'little vibe', 'live green', 'live in', 'live music', 'live only', 'lived here', 'living here', 'll be', 'll definitely', 'll done', 'll hit', 'll just', 'll leave', 'll never', 'll take', 'lobster bisque', 'lobster roll', 'located inside', 'location needs', 'location was', 'location were', 'long bay', 'long enough', 'long piece', 'long time', 'long we', 'longer to', 'look and', 'look elsewhere', 'look for', 'look too', 'looked like', 'looked little', 'looking at', 'looking for', 'looks like', 'lordy the', 'lost the', 'lot more', 'lot of', 'lot to', 'lots of', 'loudly known', 'love after', 'love authentic', 'love it', 'love sushi', 'love that', 'love the', 'love their', 'love this', 'love to', 'loved it', 'loved the', 'loved their', 'loved this', 'lovely bakery', 'lovely duo', 'lover avoid', 'lovers let', 'loves roasted', 'loving son', 'low key', 'low tolerance', 'lox with', 'loyal patron', 'luck to', 'luke warm', 'lukewarm so', 'lunch and', 'lunch buffet', 'lunch here', 'lunch service', 'lunch spot', 'mac salad', 'macarons here', 'made amazing', 'made and', 'made in', 'made me', 'made most', 'made our', 'made pastas', 'made potato', 'made some', 'made the', 'made this', 'made up', 'made us', 'madison for', 'magic and', 'main thing', 'maine lobster', 'mains also', 'maintaining touch', 'make decent', 'make for', 'make roasted', 'make scene', 'make them', 'make us', 'make your', 'making it', 'mall ate', 'mall by', 'man did', 'managed to', 'management attitudes', 'management is', 'management towards', 'manager are', 'manager but', 'manager came', 'manager was', 'mandalay bay', 'mango magic', 'many chips', 'many other', 'many people', 'many places', 'many times', 'many unexperienced', 'many words', 'margaritas are', 'margaritas too', 'maria our', 'market and', 'marrow he', 'marrow to', 'martini ever', 'mary coming', 'massive meatloaf', 'may bank', 'may be', 'may have', 'may make', 'may say', 'maybe if', 'maybe it', 'maybe we', 'mayo well', 'me at', 'me bunch', 'me considering', 'me doubt', 'me everything', 'me feel', 'me into', 'me joy', 'me of', 'me to', 'me was', 'me who', 'meal and', 'meal at', 'meal but', 'meal coconut', 'meal has', 'meal or', 'meal were', 'meals did', 'meals either', 'mean really', 'means you', 'meat and', 'meat have', 'meat in', 'meat itself', 'meat on', 'meat ratio', 'meat was', 'meatloaf sandwich', 'meats to', 'mediocre and', 'mediocre at', 'mediocre food', 'mediterranean chicken', 'medium well', 'meet your', 'mein is', 'mellow mushroom', 'melt and', 'melt in', 'melted styrofoam', 'memory of', 'mention the', 'menu and', 'menu during', 'menu had', 'menu is', 'menu order', 'menu provides', 'menu suggestions', 'menu the', 'menu was', 'menus handed', 'mesquite flavor', 'mess up', 'metro area', 'mexican food', 'mexican street', 'mid 30s', 'mid lunch', 'middle of', 'might just', 'mile from', 'military discount', 'milkshake which', 'min for', 'min to', 'mind being', 'mind making', 'minutes and', 'minutes before', 'minutes in', 'minutes just', 'minutes late', 'minutes to', 'minutes wait', 'minutes we', 'minutes with', 'minutes yet', 'miss it', 'missed for', 'mistake that', 'mixed mushrooms', 'modern and', 'moist chicken', 'mojitos are', 'mom and', 'mom multi', 'money and', 'money elsewhere', 'money here', 'monster chicken', 'months later', 'more amount', 'more attention', 'more college', 'more coming', 'more insulted', 'more of', 'more pleased', 'more satisfying', 'more than', 'more time', 'more tip', 'most of', 'mostly not', 'mouth fresh', 'mouth where', 'mouthful an', 'mouths and', 'movies but', 'moz over', 'mozzarella sticks', 'much as', 'much bamboo', 'much better', 'much flavor', 'much garlic', 'much good', 'much liked', 'much on', 'much pasta', 'much rather', 'much seafood', 'much to', 'muffin that', 'multi grain', 'multiple times', 'mushrooms yukon', 'music on', 'music playing', 'music soundtrack', 'mussels cooked', 'must get', 'must have', 'must stop', 'must visit', 'my all', 'my apple', 'my book', 'my boyfriend', 'my breakfast', 'my brother', 'my burger', 'my business', 'my car', 'my common', 'my damn', 'my dinner', 'my disbelief', 'my drink', 'my favorite', 'my fella', 'my fellow', 'my fiancé', 'my first', 'my food', 'my freaking', 'my friend', 'my friends', 'my girlfriend', 'my group', 'my gyro', 'my house', 'my husband', 'my idea', 'my last', 'my life', 'my meal', 'my mom', 'my money', 'my new', 'my opinion', 'my order', 'my parents', 'my pita', 'my plate', 'my recent', 'my ribeye', 'my salad', 'my salsa', 'my sashimi', 'my seal', 'my second', 'my side', 'my taste', 'my thing', 'my third', 'my trips', 'my tummy', 'my usual', 'my water', 'my wife', 'naan bread', 'nachos are', 'nachos at', 'name callings', 'nan chicken', 'nargile think', 'nasty and', 'nay transcendant', 'nearly ten', 'neat the', 'need to', 'needed salt', 'needed water', 'needless to', 'needs and', 'needs complete', 'needs he', 'needs to', 'negligent of', 'neighborhood gem', 'neighborhood so', 'neither was', 'never again', 'never be', 'never been', 'never brought', 'never come', 'never coming', 'never eaten', 'never empty', 'never ever', 'never go', 'never going', 'never got', 'never had', 'never heard', 'never return', 'never see', 'never seen', 'never showed', 'never wait', 'new dishes', 'new fav', 'new management', 'new restaurant', 'new spot', 'next door', 'next time', 'next to', 'next trip', 'next was', 'nice ambiance', 'nice and', 'nice atmosphere', 'nice bar', 'nice blanket', 'nice char', 'nice folks', 'nice little', 'nice plastic', 'nice spicy', 'nice surprise', 'nice texture', 'nice thing', 'nice to', 'nicest chinese', 'nicest restaurant', 'night andddd', 'night at', 'night but', 'night highly', 'night judging', 'night of', 'night too', 'night was', 'night we', 'nigiri here', 'ninja sushi', 'no allergy', 'no bigger', 'no care', 'no charcoal', 'no circumstances', 'no clue', 'no complaints', 'no effort', 'no excuse', 'no fan', 'no flavor', 'no food', 'no gloves', 'no going', 'no heat', 'no one', 'no prices', 'no signs', 'no stars', 'no will', 'nobu so', 'non customer', 'non fancy', 'none at', 'none of', 'north scottsdale', 'not again', 'not always', 'not as', 'not attentive', 'not be', 'not believe', 'not clean', 'not consistent', 'not contain', 'not correct', 'not deal', 'not decide', 'not disappoint', 'not disappointed', 'not drenched', 'not eat', 'not eating', 'not edible', 'not enjoy', 'not enough', 'not even', 'not ever', 'not expect', 'not familiar', 'not feel', 'not filling', 'not fun', 'not go', 'not good', 'not hard', 'not have', 'not hot', 'not impressed', 'not in', 'not inspired', 'not lacking', 'not like', 'not liking', 'not made', 'not meet', 'not much', 'not my', 'not one', 'not only', 'not over', 'not pleasant', 'not quality', 'not really', 'not recommend', 'not replenished', 'not return', 'not rolled', 'not say', 'not single', 'not so', 'not suggest', 'not sure', 'not take', 'not taste', 'not tasty', 'not that', 'not the', 'not thick', 'not think', 'not tip', 'not to', 'not trying', 'not up', 'not want', 'not waste', 'not weekly', 'not worth', 'note is', 'note our', 'nothing authentic', 'nothing brings', 'nothing for', 'nothing more', 'nothing privileged', 'nothing special', 'now am', 'now have', 'now not', 'now officially', 'now serve', 'now the', 'now this', 'now was', 'now we', 'nude for', 'number of', 'nut sauce', 'nutshell the', 'nyc bagels', 'obviously wasn', 'occasional pats', 'occasions asked', 'of 70', 'of all', 'of apology', 'of approval', 'of beat', 'of beauty', 'of beer', 'of being', 'of better', 'of binge', 'of buldogis', 'of business', 'of butter', 'of concern', 'of course', 'of cow', 'of coziness', 'of cream', 'of customer', 'of describing', 'of dirty', 'of disappointed', 'of disgust', 'of dishes', 'of douchey', 'of few', 'of fireball', 'of flop', 'of food', 'of fries', 'of getting', 'of giant', 'of glass', 'of good', 'of great', 'of green', 'of hard', 'of having', 'of heat', 'of horrible', 'of interesting', 'of it', 'of kid', 'of legit', 'of luck', 'of management', 'of me', 'of meat', 'of months', 'of moods', 'of moz', 'of my', 'of nice', 'of older', 'of operation', 'of options', 'of our', 'of palm', 'of pasta', 'of pears', 'of pho', 'of phoenix', 'of place', 'of promise', 'of reasons', 'of salad', 'of salads', 'of salt', 'of sauce', 'of six', 'of some', 'of the', 'of their', 'of them', 'of these', 'of this', 'of time', 'of toast', 'of town', 'of us', 'of vegetables', 'of violinists', 'of wines', 'of wire', 'off for', 'off here', 'off night', 'off putting', 'off rick', 'off the', 'offered was', 'offers better', 'offers via', 'officially done', 'oh so', 'oh this', 'ohhh this', 'ok or', 'ok the', 'old classics', 'old grease', 'old super', 'old ways', 'older crowd', 'omelets are', 'omg felt', 'omg the', 'on an', 'on bad', 'on flavor', 'on fridays', 'on friend', 'on it', 'on ladies', 'on leftover', 'on my', 'on par', 'on positive', 'on recent', 'on sunday', 'on tap', 'on the', 'on their', 'on them', 'on this', 'on three', 'on time', 'on top', 'on us', 'on what', 'once as', 'once hereas', 'once in', 'once they', 'once you', 'once your', 'one asking', 'one at', 'one authentic', 'one bit', 'one bite', 'one down', 'one edinburgh', 'one even', 'one in', 'one is', 'one myself', 'one nice', 'one of', 'one point', 'one star', 'one when', 'ones to', 'onion rings', 'only because', 'only bucks', 'only downside', 'only folks', 'only from', 'only good', 'only had', 'only have', 'only likes', 'only mile', 'only ok', 'only one', 'only others', 'only pros', 'only reason', 'only redeeming', 'only rinse', 'only ripped', 'only set', 'only tables', 'only thing', 'only vegas', 'only visited', 'opened the', 'operation on', 'opinion the', 'opportunity by', 'opportunity today', 'opposed to', 'options for', 'options to', 'or ala', 'or and', 'or anything', 'or as', 'or did', 'or eat', 'or ethic', 'or even', 'or felt', 'or flavor', 'or friendly', 'or get', 'or in', 'or just', 'or medium', 'or not', 'or sun', 'or the', 'or worth', 'order accordingly', 'order all', 'order another', 'order any', 'order arrived', 'order dessert', 'order from', 'order it', 'order was', 'ordered albondigas', 'ordered an', 'ordered burger', 'ordered double', 'ordered some', 'ordered the', 'ordered them', 'ordered toasted', 'ordered was', 'ordering and', 'orders are', 'orders two', 'original and', 'other around', 'other ayce', 'other day', 'other guests', 'other hand', 'other person', 'other restaurants', 'other reviewer', 'other reviews', 'other serving', 'other side', 'other subway', 'other tables', 'others there', 'otto always', 'our bartender', 'our day', 'our entrees', 'our first', 'our food', 'our friends', 'our large', 'our meal', 'our mouths', 'our needs', 'our next', 'our order', 'our party', 'our pizzas', 'our server', 'our sever', 'our side', 'our steak', 'our table', 'our vegetarian', 'our waiter', 'our waitress', 'out and', 'out at', 'out by', 'out disappointment', 'out of', 'out or', 'out sat', 'out the', 'out this', 'out to', 'out untoasted', 'out were', 'outdoor patio', 'outrageously flirting', 'outshining definitely', 'outside and', 'outside are', 'outside for', 'outside so', 'outstanding and', 'outstanding little', 'outta there', 'oven bread', 'oven pizza', 'over 30', 'over charcoal', 'over for', 'over fried', 'over hip', 'over power', 'over priced', 'over rated', 'over top', 'over whelm', 'overall dish', 'overall don', 'overall great', 'overall like', 'overall was', 'overall wasn', 'overcooked and', 'overpriced and', 'overpriced for', 'overpriced not', 'overwhelmed with', 'owned really', 'owner are', 'owner chef', 'owner has', 'owner used', 'owners are', 'owners really', 'owners ve', 'oysters were', 'pack it', 'paid the', 'palate of', 'pale color', 'pan cakes', 'pancake was', 'pancakes and', 'pancakes with', 'panna cotta', 'paper takeout', 'papers not', 'par either', 'par service', 'par with', 'paradise valley', 'parents to', 'part of', 'particular location', 'parties can', 'party in', 'party was', 'passed in', 'passed the', 'past and', 'pasta also', 'pasta and', 'pasta at', 'pasta but', 'pasta since', 'pastas and', 'pastry was', 'patio and', 'patio seating', 'patio so', 'pats of', 'patty that', 'pay for', 'pay lot', 'pay me', 'pay you', 'paying 85', 'peach puree', 'peanut sauce', 'pears almonds', 'peas and', 'pecan butter', 'penne vodka', 'people behind', 'people how', 'people it', 'people servers', 'people to', 'people what', 'pepper and', 'pepper beef', 'perfect actually', 'perfect amount', 'perfect and', 'perfect for', 'perfect fry', 'perfect service', 'perfect the', 'perfect where', 'perfection and', 'perfection or', 'perfectly and', 'perfectly cooked', 'perhaps caught', 'perpared great', 'person at', 'person to', 'personable and', 'personally love', 'petrified and', 'petty fast', 'phenomenal food', 'pho and', 'phoenix magazine', 'phoenix metro', 'phoenix that', 'piano music', 'picture uploaded', 'pictures with', 'piece of', 'piece the', 'pile of', 'pine nut', 'pineapple delight', 'pink and', 'pita and', 'pita baklava', 'pita it', 'pizza and', 'pizza another', 'pizza hut', 'pizza is', 'pizza itself', 'pizza place', 'pizza reminded', 'pizza selections', 'pizza tasted', 'pizza which', 'pizza with', 'pizzas as', 'pizzas here', 'place again', 'place and', 'place before', 'place but', 'place by', 'place couple', 'place deserves', 'place easily', 'place else', 'place fo', 'place for', 'place has', 'place hasn', 'place hits', 'place if', 'place in', 'place is', 'place itself', 'place lacked', 'place lot', 'place managed', 'place must', 'place next', 'place our', 'place really', 'place receives', 'place should', 'place since', 'place smelled', 'place sticks', 'place the', 'place to', 'place twice', 'place was', 'place we', 'place went', 'place where', 'place while', 'place would', 'place you', 'placed at', 'places and', 'places in', 'places said', 'places to', 'plain yucky', 'plantains were', 'plastic containers', 'plate have', 'platter is', 'play area', 'playing songs', 'pleasant and', 'pleasant to', 'please don', 'please know', 'please stay', 'pleased by', 'pleased with', 'pleasure dealing', 'plethora of', 'plus it', 'pneumatic condiment', 'point my', 'point your', 'poisoning here', 'polite wash', 'poor and', 'poor batter', 'poor quality', 'poor service', 'poorly constructed', 'pop shops', 'pop up', 'pork belly', 'pork could', 'pork sandwich', 'portion was', 'portions and', 'portions are', 'portions get', 'positive note', 'possible to', 'postinos hope', 'potato chip', 'potato chips', 'potato dishes', 'potato fries', 'potato that', 'potato tots', 'potatoes unreal', 'potatoes were', 'poured salt', 'powdered sugar', 'power the', 'prefer it', 'prepare food', 'prepared with', 'preparing indian', 'preparing the', 'presentation of', 'pretty awesome', 'pretty bland', 'pretty cool', 'pretty dry', 'pretty fast', 'pretty good', 'pretty gross', 'pretty large', 'pretty nasty', 'pretty neat', 'pretty off', 'pretty rare', 'pretty reasonable', 'pretty satifying', 'pretty sure', 'pretty tasteless', 'pretty trippy', 'pretty well', 'price can', 'price is', 'price which', 'price you', 'priced also', 'priced over', 'prices are', 'prices good', 'prices inflate', 'prices listed', 'prices were', 'pricey but', 'pricing and', 'pricing is', 'prime rib', 'privileged about', 'probably around', 'probably count', 'probably dirt', 'probably never', 'probably not', 'probably one', 'probably the', 'probably won', 'probably would', 'problem have', 'proclaimed coffee', 'professional and', 'professional degree', 'profiterole choux', 'profound deuchebaggery', 'promise but', 'promise they', 'promptly greeted', 'properly cook', 'pros large', 'proven dead', 'provided great', 'provides lots', 'providing excellent', 'pub food', 'public they', 'publicly and', 'pucks of', 'pulled pork', 'pulled up', 'pumpkin pancakes', 'puree white', 'put their', 'quaint simple', 'qualified as', 'quality and', 'quality being', 'quality black', 'quality chicken', 'quality has', 'quality is', 'quality nigiri', 'quality of', 'quality restaurant', 'quality sushi', 'quantity or', 'quick and', 'quick even', 'quick place', 'quickly become', 'quickly disappointed', 'quit being', 'quite appalling', 'quite disappointed', 'quite flavourful', 'quite like', 'quite lot', 'quite nice', 'quite pleased', 'quite satisfied', 'ramsey steak', 'ranch dipping', 'rancheros and', 'rare and', 'rare came', 'rare for', 'rare here', 'rarely checked', 'rarely good', 'raspberry ice', 'rate businesses', 'rated is', 'rather eat', 'rather gone', 'rather just', 'rating please', 'ratio made', 'rave reviews', 'raving about', 'ravoli chicken', 're all', 're being', 're done', 're not', 're outrageously', 're waiting', 'read focused', 'readers of', 'reading this', 'real disappointment', 'real lox', 'real sushi', 'real traditional', 'real treat', 'realized my', 'realized that', 'really boring', 'really did', 'really do', 'really enjoyed', 'really excellent', 'really expect', 'really fantastic', 'really good', 'really great', 'really hit', 'really how', 'really impressed', 'really is', 'really like', 'really need', 'really nice', 'really nothing', 'really quite', 'really really', 'really sexy', 'really similar', 'really spicy', 'really sure', 'really there', 'really want', 'really wanted', 'reason to', 'reasonable and', 'reasonable considering', 'reasonable flavors', 'reasonable pricing', 'reasonably priced', 'reasons and', 'recall being', 'received and', 'received from', 'received my', 'receives stars', 'recent experience', 'recent trip', 'recently tried', 'recently witnessed', 'recommend it', 'recommend saving', 'recommend the', 'recommend this', 'recommend to', 'recommend unless', 'recommendation and', 'recommendation on', 'recommended this', 'recommending cibo', 'red curry', 'red velvet', 'redeeming quality', 'reduction the', 'refill my', 'refill once', 'refrained from', 'refried beans', 'refused to', 'regular stop', 'regular toasted', 'regularly excellent', 'reheated and', 'relationship where', 'relax and', 'relaxed venue', 'relleno was', 'relocated and', 'remember was', 'reminded me', 'reminds me', 'replenished just', 'rest of', 'restaraunt smells', 'restaurant at', 'restaurant atmosphere', 'restaurant by', 'restaurant feel', 'restaurant has', 'restaurant highlighted', 'restaurant is', 'restaurant my', 'restaurant owners', 'restaurant suffers', 'restaurant that', 'restaurant this', 'restaurant ve', 'restaurant was', 'restaurant which', 'restaurant with', 'restaurants at', 'restaurants but', 'restaurants would', 'return next', 'return to', 'returned and', 'review this', 'review with', 'reviewer said', 'reviewing ll', 'reviews but', 'reviews couldn', 'rge fillet', 'ri style', 'rib and', 'ribeye steak', 'rice all', 'rice and', 'rice was', 'rice were', 'rich so', 'rick steve', 'right amount', 'right away', 'right down', 'right in', 'right next', 'right on', 'right the', 'right with', 'rings were', 'rinse not', 'ripped banana', 'ripped but', 'risotto filet', 'roast beef', 'roasted chicken', 'roasted garlic', 'rock casino', 'roll was', 'rolled the', 'rolls had', 'rolls oh', 'rolls were', 'room for', 'room temp', 'room was', 'rotating beers', 'round up', 'rowdy table', 'rubber and', 'rude and', 'rude customer', 'rude did', 'rude inconsiderate', 'rude to', 'running after', 'running around', 'running back', 'ryan bar', 'sad and', 'sad could', 'sad little', 'sadly gordon', 'saffron seasoning', 'said eel', 'said it', 'said our', 'said she', 'said spicy', 'said wanted', 'said you', 'said yum', 'salad and', 'salad had', 'salad the', 'salad was', 'salad we', 'salad when', 'salad with', 'salads and', 'salmon salad', 'salmon sashimi', 'salmon tartar', 'salmon was', 'sals here', 'salsa was', 'salsa were', 'salt and', 'salt in', 'same day', 'same evening', 'sample your', 'san francisco', 'sandwich as', 'sandwich crispy', 'sandwich in', 'sandwich just', 'sandwich tasted', 'sandwich that', 'sandwich was', 'sandwich with', 'sandwiches and', 'sangria was', 'sashimi was', 'sashimi which', 'sat another', 'sat at', 'sat or', 'sat right', 'sat there', 'satifying experience', 'satisfying meal', 'satisfying with', 'sauce and', 'sauce feels', 'sauce is', 'sauce that', 'sauce to', 'sauce was', 'sauce yet', 'sauces on', 'sause was', 'saving room', 'say about', 'say bye', 'say enough', 'say is', 'say it', 'say its', 'say not', 'say our', 'say that', 'say this', 'say we', 'say won', 'say word', 'says hi', 'scallop dish', 'scallop which', 'scene at', 'scottsdale and', 'screams legit', 'seafood and', 'seafood plate', 'seafood salad', 'seafood was', 'seal of', 'seasonal fruit', 'seasoned and', 'seasoned well', 'seat covers', 'seated although', 'seated immediately', 'seated right', 'seated was', 'seating area', 'seating even', 'seating was', 'second time', 'see another', 'see caring', 'see if', 'see the', 'seemed thin', 'seemed undercooked', 'seems like', 'seems pretty', 'seen any', 'seen in', 'selection and', 'selection of', 'selection on', 'selection too', 'selection was', 'selections are', 'selections of', 'self proclaimed', 'send it', 'sergeant pepper', 'seriously cannot', 'seriously flavorful', 'seriously good', 'seriously killer', 'seriously solid', 'serve indian', 'serve it', 'served are', 'served by', 'served hot', 'served the', 'served us', 'server did', 'server from', 'server heimer', 'server to', 'server was', 'servers are', 'servers great', 'servers so', 'servers suck', 'servers went', 'serves egg', 'serves really', 'service and', 'service but', 'service check', 'service fan', 'service focused', 'service from', 'service give', 'service here', 'service huge', 'service in', 'service is', 'service of', 'service people', 'service received', 'service stinks', 'service sucks', 'service the', 'service then', 'service thought', 'service to', 'service unique', 'service ve', 'service very', 'service was', 'services we', 'serving just', 'serving staff', 'set the', 'set us', 'setting but', 'sever was', 'several times', 'several years', 'sexy party', 'shall sharply', 'sharply avoid', 'she had', 'she immediately', 'she made', 'she only', 'she ordered', 'she was', 'shirt for', 'shocked because', 'shoe leather', 'shoots and', 'shop and', 'shopping mall', 'shops in', 'short on', 'shots of', 'should be', 'should expect', 'should have', 'should honestly', 'shouldn take', 'show their', 'showed up', 'shower area', 'shower unless', 'shrimp and', 'shrimp are', 'shrimp stir', 'shrimp tender', 'shrimp when', 'sick all', 'sick and', 'sick the', 'side dish', 'side greek', 'side of', 'side the', 'side their', 'sides are', 'sides great', 'sides were', 'signs indicate', 'silently felt', 'similar complaints', 'similar for', 'similarly the', 'simple drink', 'simple honest', 'simply disappointment', 'simply wasn', 'since 1979', 'since 2007', 'since going', 'since our', 'since the', 'since they', 'since we', 'single employee', 'single patty', 'sit down', 'sitting fairly', 'sitting waiting', 'six inch', 'six year', 'skimp on', 'slaw is', 'sliced brisket', 'sliced wagyu', 'slices of', 'slow and', 'slow at', 'slow considering', 'slow in', 'slow pace', 'slow service', 'small and', 'small boys', 'small family', 'smaller and', 'smashburger will', 'smeared been', 'smelled like', 'smells like', 'smoke break', 'smooth while', 'smoothies that', 'so absolutley', 'so am', 'so awesome', 'so bad', 'so be', 'so damn', 'so delicious', 'so disappointed', 'so don', 'so ever', 'so famous', 'so far', 'so flavorful', 'so fresh', 'so friendly', 'so glad', 'so good', 'so gooodd', 'so happy', 'so in', 'so insulted', 'so it', 'so many', 'so much', 'so now', 'so order', 'so overcooked', 'so rude', 'so rudely', 'so slow', 'so stale', 'so tasty', 'so tender', 'so terrible', 'so the', 'so there', 'so they', 'so this', 'so thumbs', 'so very', 'so was', 'so we', 'so welcome', 'so were', 'so will', 'so you', 'so yummy', 'soggy and', 'soi is', 'solid breakfast', 'solidify it', 'some blame', 'some carbs', 'some familiar', 'some highlights', 'some ice', 'some may', 'some new', 'some nice', 'some of', 'some old', 'some place', 'some really', 'some seriously', 'some spicy', 'some strangers', 'some tasty', 'some time', 'some upgrading', 'somehow when', 'someone else', 'someone me', 'someone orders', 'someone who', 'somethat also', 'something healthy', 'something is', 'something light', 'something warm', 'somewhat edible', 'son who', 'songs we', 'soon again', 'soon become', 'soon for', 'soooo delicious', 'soooo good', 'sooooo good', 'soooooo cheap', 'sorely disappointed', 'sorry will', 'sound of', 'soundtrack is', 'soup which', 'soup with', 'soups were', 'sour the', 'space is', 'spaghetti is', 'special and', 'special thanks', 'special treat', 'special whatsoever', 'specials are', 'speedy friendly', 'spend your', 'spends more', 'spice didn', 'spices and', 'spicier if', 'spicy and', 'spicy but', 'spicy enough', 'spicy mayo', 'spicy pine', 'spicy was', 'spinach and', 'sporting events', 'spot ll', 'spot on', 'spot that', 'spot when', 'spots but', 'spotty service', 'spring rolls', 'sprouts risotto', 'staff are', 'staff is', 'staff prepare', 'staff spends', 'staff was', 'staff were', 'standard 17', 'star and', 'star rating', 'stars but', 'stars for', 'stars if', 'stars just', 'stars now', 'stars then', 'stars they', 'stars would', 'started this', 'started with', 'station and', 'stay away', 'stay in', 'stayed not', 'stayed professional', 'staying at', 'staying in', 'steak and', 'steak at', 'steak but', 'steak don', 'steak great', 'steak he', 'steak is', 'steak loving', 'steak was', 'steakhouse if', 'steaks and', 'steaks are', 'steaks baseball', 'steiners because', 'step forward', 'stepped foot', 'stepped in', 'steve recommendation', 'sticks around', 'sticks they', 'still ended', 'still just', 'still letting', 'still no', 'still not', 'still quite', 'still sore', 'still sucks', 'still tell', 'still very', 'still wonderful', 'stinks here', 'stir fried', 'stir fry', 'stomach ache', 'stomach the', 'stood there', 'stop for', 'stop on', 'stop whenever', 'stopped by', 'strangers hair', 'strawberry tea', 'street tacos', 'stretch of', 'strike who', 'strings of', 'strip for', 'strip steak', 'strip this', 'struggle to', 'stuff is', 'stuff on', 'stuffed and', 'stupid every', 'style calamari', 'styrofoam and', 'sub par', 'sub which', 'subpar food', 'subway in', 'subway sub', 'subway will', 'succulent steaks', 'such bland', 'such nice', 'such thing', 'suck because', 'suck wait', 'sucked more', 'sucked which', 'sucker dry', 'suffers from', 'sugary disaster', 'sugary for', 'suggest this', 'summarize the', 'summary this', 'summer you', 'sunday night', 'sunglasses on', 'super chewy', 'super friendly', 'super nice', 'super pissd', 'supposed to', 'sure but', 'sure does', 'sure how', 'sure if', 'sure that', 'sure to', 'surprised me', 'sushi bar', 'sushi but', 'sushi connoisseur', 'sushi craving', 'sushi have', 'sushi it', 'sushi lover', 'sushi lovers', 'sushi next', 'sushi on', 'sushi place', 'sweet and', 'sweet not', 'sweet potato', 'sweet potatoes', 'swung in', 'table and', 'table next', 'table thought', 'table was', 'tables and', 'tables in', 'tables outside', 'taco didn', 'taco is', 'tacos and', 'tacos are', 'tacos don', 'tacos in', 'tailored to', 'take 30', 'take full', 'take little', 'take my', 'take our', 'take out', 'take pictures', 'takeout boxes', 'talk about', 'talk and', 'talk down', 'talk to', 'talking to', 'tap is', 'tap water', 'tapas and', 'tapas dishes', 'tartare with', 'taste amazing', 'taste fell', 'taste fresh', 'taste homemade', 'taste how', 'taste like', 'taste my', 'taste of', 'taste that', 'tasted like', 'tasted old', 'tasted really', 'tasted very', 'tasteless seemed', 'tastings and', 'tasty and', 'tasty at', 'tasty bowl', 'tasty burgers', 'tasty food', 'tasty to', 'tater tots', 'tea and', 'tea spots', 'tea which', 'teamwork to', 'teeth still', 'tell people', 'tell the', 'tell they', 'tell you', 'temp watched', 'ten minutes', 'ten years', 'tender and', 'tender on', 'tender well', 'tenders very', 'tepid meat', 'terrible food', 'terrible job', 'terrible management', 'terrible service', 'terrible though', 'terrific and', 'texture and', 'texture was', 'thai ever', 'thai food', 'thai restaurant', 'than chocolate', 'than ever', 'than few', 'than high', 'than me', 'than or', 'than subway', 'than that', 'than the', 'than this', 'than we', 'than year', 'thanks to', 'that again', 'that all', 'that box', 'that bug', 'that busy', 'that came', 'that either', 'that establishment', 'that everything', 'that feel', 'that found', 'that fresh', 'that good', 'that have', 'that he', 'that is', 'that it', 'that just', 'that looks', 'that night', 'that price', 'that right', 'that said', 'that serves', 'that silently', 'that sucker', 'that the', 'that they', 'that this', 'that under', 'that ve', 'that was', 'that way', 'that we', 'that went', 'that were', 'that would', 'that you', 'thats being', 'the 35', 'the actual', 'the airport', 'the ambiance', 'the ambience', 'the area', 'the article', 'the atmosphere', 'the atrocious', 'the baby', 'the bacon', 'the bad', 'the bakery', 'the ball', 'the bar', 'the barely', 'the bartender', 'the bathroom', 'the bathrooms', 'the batter', 'the beans', 'the beef', 'the best', 'the better', 'the big', 'the biggest', 'the bill', 'the biscuit', 'the biscuits', 'the black', 'the blandest', 'the block', 'the bloddy', 'the bloodiest', 'the blue', 'the bottom', 'the bread', 'the brick', 'the buffet', 'the building', 'the burger', 'the burgers', 'the burrittos', 'the bus', 'the camelback', 'the cape', 'the cashew', 'the cashier', 'the chains', 'the check', 'the cheese', 'the chef', 'the chefs', 'the chicken', 'the chinese', 'the chipolte', 'the chips', 'the classic', 'the club', 'the cocktails', 'the combination', 'the company', 'the concept', 'the cow', 'the crab', 'the crazy', 'the crepe', 'the croutons', 'the crowd', 'the crust', 'the crystals', 'the crêpe', 'the day', 'the deal', 'the decor', 'the delicious', 'the delivery', 'the descriptions', 'the desserts', 'the difference', 'the dining', 'the disappointing', 'the dishes', 'the downtown', 'the dressing', 'the driest', 'the drinks', 'the drive', 'the duck', 'the egg', 'the elk', 'the end', 'the entire', 'the evening', 'the excalibur', 'the experience', 'the eyes', 'the fact', 'the family', 'the feel', 'the few', 'the final', 'the first', 'the fish', 'the flair', 'the folks', 'the fondue', 'the food', 'the fried', 'the fries', 'the get', 'the goat', 'the gold', 'the good', 'the greatest', 'the greek', 'the grilled', 'the grocery', 'the ground', 'the guy', 'the guys', 'the gyros', 'the halibut', 'the han', 'the hardest', 'the heart', 'the homemade', 'the hospitality', 'the hostess', 'the hot', 'the hottest', 'the huevos', 'the hummus', 'the imagination', 'the ingredients', 'the inside', 'the interior', 'the ironman', 'the jalapeno', 'the jamaican', 'the joint', 'the khao', 'the kiddos', 'the kids', 'the kitchen', 'the ladies', 'the last', 'the late', 'the least', 'the lemon', 'the lighting', 'the list', 'the little', 'the live', 'the lobster', 'the look', 'the love', 'the mac', 'the macarons', 'the mains', 'the mall', 'the management', 'the manager', 'the mandalay', 'the margaritas', 'the meal', 'the meat', 'the mediterranean', 'the melted', 'the memory', 'the menu', 'the menus', 'the mgm', 'the middle', 'the mirage', 'the money', 'the mood', 'the movies', 'the mozzarella', 'the nachos', 'the neighborhood', 'the next', 'the nicest', 'the night', 'the occasional', 'the old', 'the one', 'the onion', 'the only', 'the opportunity', 'the other', 'the outside', 'the owner', 'the owners', 'the oysters', 'the paid', 'the palate', 'the pan', 'the pancake', 'the party', 'the past', 'the patio', 'the peanut', 'the perfect', 'the pho', 'the phoenix', 'the piano', 'the piece', 'the pita', 'the pizza', 'the place', 'the plantains', 'the pneumatic', 'the poor', 'the pork', 'the portion', 'the potato', 'the potatoes', 'the presentation', 'the price', 'the prices', 'the prime', 'the problem', 'the profiterole', 'the public', 'the quality', 'the rave', 'the real', 'the recommendation', 'the red', 'the refried', 'the register', 'the rest', 'the restaraunt', 'the restaurant', 'the reviews', 'the ri', 'the right', 'the ripped', 'the roast', 'the rolls', 'the rude', 'the saffron', 'the saganaki', 'the salad', 'the salmon', 'the salsa', 'the san', 'the sandwich', 'the sangria', 'the sauce', 'the scallop', 'the seafood', 'the seasonal', 'the second', 'the selection', 'the sergeant', 'the serivce', 'the server', 'the servers', 'the service', 'the services', 'the shower', 'the shrimp', 'the sides', 'the similar', 'the slaw', 'the sliced', 'the slow', 'the smoothies', 'the soup', 'the southwest', 'the spaghetti', 'the spinach', 'the spot', 'the spring', 'the staff', 'the steak', 'the steaks', 'the strip', 'the sub', 'the subpar', 'the summer', 'the sweet', 'the table', 'the tables', 'the tapas', 'the taste', 'the texture', 'the thinly', 'the time', 'the tiramisu', 'the topic', 'the tuna', 'the turkey', 'the two', 'the up', 'the valley', 'the vanilla', 'the vegetables', 'the vegetarian', 'the veggitarian', 'the ventilation', 'the verge', 'the vinaigrette', 'the voodoo', 'the wait', 'the waiter', 'the waitress', 'the waitresses', 'the wall', 'the walls', 'the warm', 'the way', 'the website', 'the wedges', 'the week', 'the whole', 'the wienerschnitzel', 'the wife', 'the wine', 'the wings', 'the wontons', 'the workers', 'the world', 'the worst', 'the wound', 'the yellowtail', 'their appetizers', 'their beans', 'their boba', 'their bruschetta', 'their cafe', 'their chow', 'their daily', 'their food', 'their fries', 'their frozen', 'their gratitude', 'their guacamole', 'their guest', 'their heads', 'their lunch', 'their meals', 'their menu', 'their milkshake', 'their monster', 'their mussels', 'their pizza', 'their potato', 'their prices', 'their regular', 'their rotating', 'their spices', 'their steaks', 'their vegetarian', 'their worries', 'them and', 'them going', 'them here', 'them in', 'them no', 'them on', 'them preparing', 'them try', 'them twice', 'them were', 'them wrap', 'them zero', 'themselves than', 'then and', 'then another', 'then as', 'then enjoy', 'then our', 'then the', 'then they', 'then this', 'then tragedy', 'there again', 'there and', 'there are', 'there but', 'there eating', 'there even', 'there few', 'there food', 'there for', 'there if', 'there is', 'there they', 'there twice', 'there very', 'there was', 'there were', 'these are', 'these foods', 'these sad', 'these sides', 'these were', 'they added', 'they also', 'they are', 'they brought', 'they burned', 'they came', 'they charge', 'they could', 'they did', 'they didn', 'they do', 'they don', 'they dropped', 'they expanded', 'they finally', 'they give', 'they had', 'they handled', 'they have', 'they kept', 'they know', 'they made', 'they make', 'they never', 'they offered', 'they performed', 'they poured', 'they put', 'they re', 'they really', 'they relocated', 'they were', 'they weren', 'they will', 'they won', 'they would', 'thick and', 'thin and', 'thin not', 'thin pizzas', 'thing did', 'thing didn', 'thing of', 'thing was', 'thing wasn', 'thing we', 'things about', 'things as', 'things that', 'think food', 'think it', 'think ll', 'think not', 'think of', 'think that', 'think this', 'think to', 'think we', 'think will', 'think you', 'thinking yay', 'thinly sliced', 'third the', 'third time', 'thirty minutes', 'this bodes', 'this buffet', 'this bug', 'this case', 'this dish', 'this donut', 'this establishment', 'this fs', 'this greedy', 'this hole', 'this is', 'this isn', 'this just', 'this location', 'this one', 'this particular', 'this place', 'this please', 'this point', 'this really', 'this restaurant', 'this review', 'this side', 'this stuff', 'this sushi', 'this theft', 'this time', 'this to', 'this tops', 'this was', 'this will', 'this wine', 'this wonderful', 'this world', 'thoroughly disappointed', 'those burgers', 'those things', 'those with', 'though he', 'thought it', 'thought possible', 'thought the', 'thought you', 'three different', 'three times', 'thrilled that', 'thru means', 'thumbs down', 'thumbs up', 'thus far', 'tigerlilly and', 'time and', 'time at', 'time being', 'time dining', 'time eat', 'time eating', 'time even', 'time ever', 'time family', 'time favorite', 'time going', 'time had', 'time he', 'time here', 'time in', 'time it', 'time let', 'time of', 'time on', 'time our', 'time some', 'time soon', 'time talking', 'time the', 'time there', 'time ve', 'times and', 'times better', 'times for', 'times got', 'times had', 'times in', 'times not', 'times soon', 'times think', 'times very', 'tiny but', 'tip because', 'tip lady', 'tip than', 'tiramisu and', 'to 30', 'to accomodate', 'to again', 'to an', 'to and', 'to any', 'to anyone', 'to ask', 'to bachi', 'to be', 'to begin', 'to boiled', 'to boot', 'to bowl', 'to break', 'to bring', 'to carly', 'to check', 'to choose', 'to come', 'to complain', 'to cover', 'to cramming', 'to deal', 'to deliver', 'to die', 'to dine', 'to disagree', 'to do', 'to dylan', 'to each', 'to eat', 'to enjoy', 'to ever', 'to every', 'to expensive', 'to experience', 'to far', 'to feel', 'to fill', 'to find', 'to finish', 'to first', 'to gas', 'to get', 'to give', 'to go', 'to good', 'to grab', 'to hard', 'to have', 'to hiro', 'to ians', 'to in', 'to it', 'to judge', 'to know', 'to leave', 'to like', 'to loyal', 'to make', 'to me', 'to meat', 'to mention', 'to mess', 'to my', 'to ninja', 'to not', 'to order', 'to other', 'to others', 'to our', 'to pack', 'to par', 'to perfection', 'to phoenix', 'to place', 'to professional', 'to quit', 'to refill', 'to relax', 'to remember', 'to review', 'to rice', 'to room', 'to round', 'to sample', 'to say', 'to see', 'to send', 'to served', 'to set', 'to show', 'to solidify', 'to stars', 'to summarize', 'to take', 'to talk', 'to taste', 'to tell', 'to the', 'to their', 'to them', 'to themselves', 'to this', 'to tigerlilly', 'to try', 'to us', 'to vegas', 'to venture', 'to very', 'to wait', 'to waste', 'to wave', 'to which', 'to why', 'to work', 'to your', 'toast lightly', 'toasted bread', 'toasted english', 'today is', 'today since', 'today to', 'today was', 'together with', 'told friends', 'told many', 'told me', 'tolerance for', 'tomato soup', 'tongue and', 'tonight had', 'too appealing', 'too bad', 'too cold', 'too crazy', 'too many', 'too overpriced', 'too sugary', 'too sweet', 'too with', 'took 20', 'took 40', 'took an', 'took back', 'took close', 'took her', 'took over', 'took to', 'top but', 'top very', 'tops the', 'toro tartare', 'total brunch', 'total letdown', 'total waste', 'totally bland', 'totally blows', 'totally overwhelmed', 'tots in', 'tots were', 'touch of', 'touched it', 'tough and', 'towards customers', 'towards other', 'town again', 'town by', 'town for', 'town this', 'tracked everywhere', 'traditional hunan', 'tragedy struck', 'transcendant but', 'trap and', 'treated equally', 'treated so', 'tribute to', 'tried caballero', 'tried gets', 'tried so', 'tried the', 'tried to', 'trimmed and', 'trip for', 'trip out', 'trip to', 'trippy but', 'trips to', 'truly unbelievably', 'try but', 'try going', 'try it', 'try them', 'try this', 'try you', 'trying hard', 'trying to', 'tuna melt', 'tuna sashimi', 'turkey and', 'turn off', 'twice and', 'twice on', 'twice once', 'twice so', 'two bites', 'two felt', 'two of', 'two papers', 'two small', 'two stars', 'two tacos', 'two thumbs', 'typical bar', 'unbelievable bargain', 'unbelievably good', 'under no', 'under services', 'under warmer', 'undercooked and', 'underwhelming and', 'underwhelming relationship', 'unexperienced employees', 'unfortunately it', 'unfortunately the', 'unfortunately we', 'unhealthy meal', 'unique menu', 'unless someone', 'unless you', 'unless your', 'unprofessional and', 'until the', 'until this', 'unwelcome would', 'unwrapped it', 'up again', 'up ahead', 'up and', 'up before', 'up being', 'up for', 'up from', 'up going', 'up my', 'up side', 'up steak', 'up the', 'up there', 'up to', 'up trying', 'up waiting', 'up way', 'up would', 'update went', 'uploaded yeah', 'us beautifully', 'us feel', 'us found', 'us in', 'us left', 'us many', 'us ordering', 'us our', 'us regularly', 'us the', 'us up', 'us wait', 'us when', 'us who', 'use my', 'use some', 'used to', 'usual is', 'vacant tables', 'valley and', 'valley by', 'value as', 'value great', 'vanilla ice', 've been', 've ever', 've given', 've had', 've have', 've lived', 've never', 've seen', 've stepped', 've tried', 'veal was', 'vegan veggie', 'vegas and', 'vegas buffet', 'vegas fine', 'vegas for', 'vegas is', 'vegas that', 'vegas there', 'vegas you', 'vegetables are', 'vegetables so', 'vegetables were', 'vegetarian daughter', 'vegetarian fare', 'vegetarian menu', 'veggie options', 'veggitarian platter', 'velvet cake', 'ventilation could', 'venture further', 'venturing off', 'venue for', 'verge of', 'version of', 'very attentive', 'very bad', 'very bland', 'very clean', 'very comfortable', 'very convenient', 'very creamy', 'very delightful', 'very disappointed', 'very disappointing', 'very few', 'very filling', 'very fresh', 'very friendly', 'very frustrated', 'very full', 'very fun', 'very good', 'very helpful', 'very high', 'very impressed', 'very inexpensive', 'very long', 'very low', 'very many', 'very much', 'very negligent', 'very nice', 'very off', 'very original', 'very poor', 'very poorly', 'very prompt', 'very quick', 'very reasonable', 'very refreshing', 'very rude', 'very sad', 'very short', 'very slow', 'very spicy', 'very tasty', 'very tough', 'very unsatisfying', 'very unwelcome', 'very very', 'via email', 'vibe from', 'vibe in', 'vibe still', 'vinaigrette and', 'vinegrette on', 'violinists playing', 'visit and', 'visit to', 'visited twice', 'vodka excellent', 'vomited in', 'voodoo pasta', 'voted best', 'waaaaaayyyyyyyyyy over', 'wagyu with', 'wait and', 'wait around', 'wait correction', 'wait for', 'wait got', 'wait over', 'wait that', 'wait times', 'wait to', 'wait until', 'waited an', 'waited and', 'waited for', 'waited hours', 'waiter he', 'waiter made', 'waiter pay', 'waiter was', 'waiter wasn', 'waiting 40', 'waiting an', 'waiting for', 'waitress and', 'waitress had', 'waitress looked', 'waitress was', 'waitresses are', 'walked away', 'walked in', 'wall has', 'wall paper', 'wall where', 'walls are', 'want healthy', 'want my', 'want sandwich', 'want something', 'want to', 'want whole', 'wanted to', 'wants to', 'warm and', 'warm atmosphere', 'warm beer', 'warm but', 'warm feeling', 'warm our', 'warnings on', 'was 12', 'was 45', 'was 4ths', 'was about', 'was above', 'was absolutely', 'was almost', 'was also', 'was amazing', 'was attached', 'was attentive', 'was average', 'was awesome', 'was awful', 'was barely', 'was basically', 'was below', 'was better', 'was beyond', 'was bit', 'was bland', 'was breakfast', 'was brownish', 'was business', 'was certainly', 'was chewy', 'was climbing', 'was cold', 'was coming', 'was completely', 'was cooked', 'was creamy', 'was deeply', 'was definitely', 'was delicate', 'was delicioso', 'was delicious', 'was deliciously', 'was delight', 'was different', 'was disgraceful', 'was disgusted', 'was doing', 'was done', 'was drive', 'was dry', 'was due', 'was either', 'was equally', 'was excellent', 'was exceptional', 'was exquisite', 'was extraordinary', 'was extremely', 'was fairly', 'was falling', 'was fantastic', 'was far', 'was fine', 'was freezing', 'was fresh', 'was friendly', 'was generous', 'was genuinely', 'was good', 'was great', 'was gross', 'was hardly', 'was hooked', 'was huge', 'was human', 'was impeccable', 'was impressed', 'was in', 'was incredible', 'was jerk', 'was joke', 'was just', 'was kind', 'was large', 'was largely', 'was larger', 'was like', 'was limited', 'was literally', 'was little', 'was long', 'was luke', 'was lukewarm', 'was madhouse', 'was mediocre', 'was meh', 'was melt', 'was missing', 'was more', 'was mortified', 'was my', 'was never', 'was no', 'was none', 'was not', 'was nothing', 'was on', 'was only', 'was our', 'was out', 'was outshining', 'was outstanding', 'was overcooked', 'was packed', 'was pale', 'was perfect', 'was perfectly', 'was perpared', 'was pink', 'was poor', 'was pretty', 'was probably', 'was proven', 'was quickly', 'was quite', 'was really', 'was running', 'was sad', 'was seated', 'was shocked', 'was sick', 'was slow', 'was so', 'was stale', 'was still', 'was stupid', 'was such', 'was super', 'was sweet', 'was tasteless', 'was tender', 'was terrible', 'was that', 'was the', 'was their', 'was thinking', 'was totally', 'was underwhelming', 'was very', 'was voted', 'was warm', 'was way', 'was wildly', 'was wonderful', 'wash dishes', 'wasn busy', 'wasn coming', 'wasn food', 'wasn fresh', 'wasn good', 'wasn helpful', 'wasn really', 'wasn that', 'wasn too', 'wasn very', 'wasn worth', 'waste of', 'waste time', 'waste your', 'wasted enough', 'wasting an', 'wasting food', 'watch any', 'watch them', 'watched our', 'watched staff', 'watched their', 'water before', 'water refill', 'watered down', 'wave you', 'way flat', 'way from', 'way of', 'way over', 'way overpriced', 'way to', 'way too', 'way up', 'way you', 'wayyy overpriced', 'we also', 'we are', 'we aren', 'we asked', 'we can', 'we claimed', 'we could', 'we definately', 'we definitely', 'we end', 'we enjoy', 'we expected', 'we found', 'we got', 'we had', 'we have', 'we know', 'we like', 'we literally', 'we ll', 'we loved', 'we made', 'we may', 'we must', 'we ordered', 'we re', 'we read', 'we realized', 'we received', 'we recently', 'we requested', 'we sat', 'we shall', 'we started', 'we stood', 'we thought', 'we ve', 'we waited', 'we walked', 'we watched', 'we we', 'we went', 'we were', 'we will', 'we won', 'we would', 'weak people', 'wedges were', 'week since', 'week they', 'weekend in', 'weekly haunt', 'weird vibe', 'welcome and', 'well and', 'well as', 'well decorated', 'well done', 'well flavored', 'well none', 'well trimmed', 'well would', 'went above', 'went back', 'went elsewhere', 'went for', 'went in', 'went on', 'went to', 'went wrong', 'were absolutely', 'were also', 'were amazing', 'were bit', 'were bland', 'were cold', 'were delicious', 'were dirty', 'were dried', 'were dripping', 'were excellent', 'were fantastic', 'were for', 'were friendly', 'were golden', 'were good', 'were great', 'were greeted', 'were grossed', 'were in', 'were lacking', 'were like', 'were mediocre', 'were not', 'were ok', 'were perfection', 'were pleased', 'were possible', 'were promptly', 'were really', 'were sad', 'were sat', 'were served', 'were so', 'were sorely', 'were staying', 'were still', 'were the', 'were thin', 'were truly', 'were undercooked', 'were vacant', 'were very', 'were yummy', 'were zero', 'weren cold', 'what anticipated', 'what did', 'what disappointment', 'what flavor', 'what great', 'what had', 'what happened', 'what he', 'what kind', 'what mistake', 'what my', 'what really', 'what should', 'what so', 'what the', 'what they', 'what to', 'what ve', 'what was', 'what we', 'what you', 'whelm the', 'when customers', 'when had', 'when he', 'when it', 'when my', 'when on', 'when opened', 'when our', 'when received', 'when they', 'when unwrapped', 'when want', 'when we', 'when you', 'whenever we', 'where both', 'where first', 'where spice', 'where this', 'where you', 'whether these', 'which are', 'which has', 'which is', 'which meals', 'which no', 'which offers', 'which surprised', 'which used', 'which was', 'which we', 'while in', 'while maintaining', 'while serving', 'while the', 'white corn', 'white peach', 'white truffle', 'who came', 'who can', 'who has', 'who is', 'who only', 'who wants', 'who was', 'who works', 'whole bunch', 'whole experience', 'why are', 'why gave', 'why they', 'wide array', 'wienerschnitzel is', 'wife had', 'wife hated', 'wife loves', 'wildly disappointed', 'will absolutely', 'will be', 'will come', 'will continue', 'will customize', 'will definitely', 'will go', 'will never', 'will not', 'will pop', 'will quickly', 'will return', 'wine amazing', 'wine full', 'wine list', 'wine reduction', 'wings and', 'wings as', 'wings contained', 'wings ever', 'wire in', 'wish they', 'with all', 'with and', 'with any', 'with auju', 'with bacon', 'with bare', 'with beautiful', 'with capers', 'with care', 'with cavier', 'with cranberry', 'with denny', 'with eggplant', 'with everything', 'with fabulous', 'with few', 'with food', 'with frozen', 'with grease', 'with green', 'with him', 'with his', 'with homemade', 'with huge', 'with hummus', 'with just', 'with lots', 'with lovely', 'with my', 'with nice', 'with no', 'with noca', 'with our', 'with pecan', 'with powdered', 'with reservation', 'with some', 'with stomach', 'with strip', 'with the', 'with their', 'with them', 'with this', 'with tv', 'with two', 'with white', 'with you', 'without doubt', 'without eating', 'witnessed her', 'won be', 'won disappoint', 'won ever', 'won go', 'won try', 'wonderful and', 'wonderful breakfast', 'wonderful experience', 'wonderful lil', 'wontons were', 'word bitches', 'word of', 'words to', 'work at', 'work in', 'worker right', 'workers are', 'working eating', 'works at', 'world worst', 'worse and', 'worse of', 'worse so', 'worst annoying', 'worst experience', 'worst food', 'worst fries', 'worst martini', 'worst people', 'worst places', 'worst service', 'worst sushi', 'worst thai', 'worst ve', 'worst version', 'worst was', 'worth driving', 'worth it', 'worth the', 'worth venturing', 'worth visit', 'worth your', 'would avoid', 'would be', 'would come', 'would definately', 'would definitely', 'would drag', 'would ever', 'would expect', 'would give', 'would have', 'would love', 'would much', 'would not', 'would only', 'would recommend', 'would say', 'would suck', 'would take', 'would ve', 'wouldn eat', 'wouldn recommend', 'wouldn return', 'wound by', 'wow loved', 'wow very', 'wow what', 'wrap delish', 'wrap my', 'wrapped dates', 'writing review', 'wrong by', 'wrong they', 'wrong with', 'ya all', 'yama is', 'yay something', 'yeah still', 'year ago', 'year old', 'years ago', 'years living', 'yellow from', 'yellowtail carpaccio', 'yelpers but', 'yet another', 'yet delicious', 'yet still', 'you are', 'you being', 'you bring', 'you call', 'you can', 'you cannot', 'you cant', 'you come', 'you could', 'you couldn', 'you did', 'you do', 'you don', 'you get', 'you have', 'you haven', 'you how', 'you it', 'you just', 'you like', 'you ll', 'you look', 'you love', 'you must', 'you need', 'you over', 'you pay', 'you prefer', 'you re', 'you should', 'you stay', 'you talk', 'you that', 'you then', 'you think', 'you want', 'you will', 'you won', 'your amazing', 'your car', 'your expectations', 'your experience', 'your finger', 'your fish', 'your food', 'your job', 'your money', 'your mouth', 'your order', 'your servers', 'your staff', 'your stomach', 'your time', 'your tip', 'your typical', 'yourself favor', 'yourself steakhouse', 'yukon gold', 'yum sauce', 'yum yum', 'yummy christmas', 'yummy for', 'yummy you', 'zero stars', 'zero taste']\n"
     ]
    }
   ],
   "source": [
    "from sklearn.feature_extraction.text import CountVectorizer\n",
    "ngram_vect=CountVectorizer(ngram_range=(2,2))\n",
    "X_counts=ngram_vect.fit_transform(data['Review'])\n",
    "print(X_counts.shape)\n",
    "print(ngram_vect.get_feature_names())"
   ]
  },
  {
   "cell_type": "markdown",
   "metadata": {},
   "source": [
    "#### Vectorizing Data:TF-IDF<br>\n",
    "It computes “relative frequency” that a word appears in a document compared to its frequency across all documents. It is more useful than “term frequency” for identifying “important” words in each document (high frequency in that document, low frequency in other documents).<br>\n",
    "NLTK does not support tf-idf. So, we're going to use scikit-learn. The scikit-learn has a built in tf-Idf implementation while we still utilize NLTK's tokenizer and stemmer to preprocess the text."
   ]
  },
  {
   "cell_type": "code",
   "execution_count": 37,
   "metadata": {},
   "outputs": [
    {
     "name": "stdout",
     "output_type": "stream",
     "text": [
      "(1000, 2035)\n",
      "['00', '10', '100', '11', '12', '15', '17', '1979', '20', '2007', '23', '30', '30s', '35', '40', '40min', '45', '4ths', '5lb', '70', '85', '90', '99', 'about', 'above', 'absolute', 'absolutely', 'absolutley', 'accident', 'accommodations', 'accomodate', 'accordingly', 'accountant', 'ache', 'acknowledged', 'across', 'actual', 'actually', 'added', 'affordable', 'after', 'afternoon', 'again', 'ago', 'ahead', 'airline', 'airport', 'ala', 'albondigas', 'all', 'allergy', 'almonds', 'almost', 'alone', 'also', 'although', 'always', 'am', 'amazing', 'ambiance', 'ambience', 'amount', 'ample', 'an', 'and', 'andddd', 'angry', 'annoying', 'another', 'anticipated', 'any', 'anymore', 'anyone', 'anything', 'anytime', 'anyway', 'anyways', 'apart', 'apologize', 'apology', 'app', 'appalling', 'apparently', 'appealing', 'appetite', 'appetizer', 'appetizers', 'apple', 'approval', 'are', 'area', 'aren', 'arepas', 'aria', 'around', 'array', 'arrived', 'arrives', 'arriving', 'article', 'as', 'ask', 'asked', 'asking', 'assure', 'at', 'ate', 'atmosphere', 'atrocious', 'attached', 'attack', 'attention', 'attentive', 'attitudes', 'auju', 'authentic', 'average', 'avocado', 'avoid', 'avoided', 'away', 'awesome', 'awful', 'awkward', 'awkwardly', 'ayce', 'az', 'baba', 'baby', 'bachi', 'back', 'bacon', 'bad', 'bagels', 'bakery', 'baklava', 'ball', 'bamboo', 'banana', 'bank', 'bar', 'bare', 'barely', 'bargain', 'bars', 'bartender', 'bartenders', 'baseball', 'based', 'basically', 'batch', 'bathroom', 'bathrooms', 'batter', 'bay', 'bbq', 'be', 'bean', 'beans', 'beat', 'beateous', 'beautiful', 'beautifully', 'beauty', 'because', 'become', 'beef', 'been', 'beer', 'beers', 'before', 'begin', 'behind', 'being', 'believe', 'bellagio', 'bellies', 'belly', 'below', 'besides', 'best', 'better', 'between', 'beyond', 'big', 'bigger', 'biggest', 'bill', 'binge', 'bird', 'biscuit', 'biscuits', 'bisque', 'bit', 'bitches', 'bite', 'bites', 'bits', 'black', 'blah', 'blame', 'bland', 'blandest', 'blanket', 'block', 'bloddy', 'bloodiest', 'bloody', 'blow', 'blown', 'blows', 'blue', 'boba', 'bodes', 'boiled', 'bone', 'book', 'boot', 'boring', 'both', 'bother', 'bottom', 'bouchon', 'bought', 'bowl', 'box', 'boxes', 'boy', 'boyfriend', 'boys', 'bread', 'break', 'breakfast', 'breaks', 'breeze', 'brick', 'bring', 'brings', 'brisket', 'brother', 'brought', 'brownish', 'brunch', 'bruschetta', 'brushfire', 'bucks', 'buffet', 'buffets', 'bug', 'building', 'buldogis', 'bunch', 'burger', 'burgers', 'burned', 'burrittos', 'bus', 'business', 'businesses', 'bussell', 'busy', 'but', 'butter', 'buying', 'by', 'bye', 'caballero', 'caesar', 'cafe', 'café', 'cake', 'cakes', 'calamari', 'call', 'calligraphy', 'callings', 'came', 'camelback', 'can', 'cannoli', 'cannot', 'cant', 'cape', 'capers', 'car', 'carbs', 'care', 'caring', 'carly', 'carpaccio', 'cart', 'cartel', 'case', 'cash', 'cashew', 'cashier', 'casino', 'caterpillar', 'caught', 'cause', 'cavier', 'certainly', 'chai', 'chains', 'changing', 'char', 'charcoal', 'charge', 'charged', 'charming', 'cheap', 'cheated', 'check', 'checked', 'cheek', 'cheese', 'cheeseburger', 'cheesecurds', 'chef', 'chefs', 'chewy', 'chicken', 'chickens', 'chinese', 'chip', 'chipolte', 'chipotle', 'chips', 'chocolate', 'choose', 'choux', 'chow', 'christmas', 'cibo', 'circumstances', 'claimed', 'class', 'classic', 'classics', 'classy', 'clean', 'climbing', 'close', 'closed', 'club', 'clue', 'cocktail', 'cocktails', 'coconut', 'cod', 'coffee', 'cold', 'colder', 'college', 'color', 'combination', 'combo', 'combos', 'come', 'comfortable', 'coming', 'common', 'companions', 'company', 'complain', 'complaints', 'complete', 'completely', 'compliments', 'con', 'concept', 'concern', 'conclusion', 'condiment', 'connisseur', 'connoisseur', 'consider', 'considering', 'consistent', 'constructed', 'contain', 'contained', 'containers', 'continue', 'convenient', 'cook', 'cooked', 'cooking', 'cool', 'corn', 'corporation', 'correct', 'correction', 'cost', 'costco', 'cotta', 'could', 'couldn', 'count', 'couple', 'couples', 'coupons', 'course', 'court', 'courteous', 'cover', 'covered', 'covers', 'cow', 'coziness', 'crab', 'cramming', 'cranberry', 'craving', 'crawfish', 'crazy', 'cream', 'creamy', 'crema', 'crepe', 'crisp', 'crispy', 'crostini', 'croutons', 'crowd', 'crowds', 'crumby', 'crust', 'crusty', 'crystals', 'crêpe', 'cuisine', 'curry', 'customer', 'customers', 'customize', 'cut', 'cute', 'daily', 'damn', 'dark', 'date', 'dates', 'daughter', 'day', 'dead', 'deal', 'dealing', 'decent', 'decide', 'decided', 'decision', 'decor', 'decorated', 'dedicated', 'deep', 'deeply', 'def', 'definately', 'definitely', 'degree', 'del', 'delicate', 'delicioso', 'delicious', 'deliciously', 'delight', 'delightful', 'delights', 'delish', 'deliver', 'delivery', 'denny', 'describing', 'descriptions', 'deserves', 'desired', 'despicable', 'despite', 'dessert', 'desserts', 'deuchebaggery', 'devine', 'did', 'didn', 'die', 'difference', 'different', 'dime', 'dine', 'dining', 'dinner', 'dinners', 'dipping', 'dirt', 'dirty', 'disagree', 'disappoint', 'disappointed', 'disappointing', 'disappointment', 'disapppointment', 'disaster', 'disbelief', 'discount', 'disgrace', 'disgraceful', 'disgust', 'disgusted', 'disgusting', 'dish', 'dishes', 'dispenser', 'disrespected', 'diverse', 'do', 'does', 'dog', 'doing', 'dollars', 'don', 'done', 'dont', 'donut', 'door', 'dos', 'double', 'doubt', 'douchey', 'dough', 'doughy', 'down', 'downright', 'downside', 'downtown', 'drag', 'drastically', 'drawing', 'dreamed', 'drenched', 'dressed', 'dressing', 'dried', 'driest', 'drink', 'drinking', 'drinks', 'dripping', 'drive', 'driving', 'dropped', 'drunk', 'dry', 'duck', 'dude', 'due', 'duo', 'during', 'dusted', 'dylan', 'each', 'easily', 'eat', 'eaten', 'eating', 'eclectic', 'edible', 'edinburgh', 'editing', 'eel', 'eew', 'efficient', 'effort', 'egg', 'eggplant', 'eggs', 'either', 'elegantly', 'elk', 'else', 'elsewhere', 'email', 'employee', 'employees', 'empty', 'end', 'ended', 'english', 'enjoy', 'enjoyable', 'enjoyed', 'enough', 'ensued', 'enthusiastic', 'entire', 'entrees', 'equally', 'especially', 'establishment', 'etc', 'ethic', 'eve', 'even', 'evening', 'event', 'events', 'ever', 'every', 'everyone', 'everything', 'everywhere', 'exactly', 'excalibur', 'exceeding', 'excellent', 'exceptional', 'excuse', 'expanded', 'expect', 'expectations', 'expected', 'expensive', 'experience', 'experienced', 'experiencing', 'expert', 'exquisite', 'extensive', 'extra', 'extraordinary', 'extremely', 'eyed', 'eyes', 'fabulous', 'fact', 'fail', 'fails', 'fair', 'fairly', 'falafels', 'falling', 'familiar', 'family', 'famous', 'fan', 'fancy', 'fantastic', 'far', 'fare', 'fast', 'fat', 'fav', 'favor', 'favorite', 'fear', 'feel', 'feeling', 'feels', 'fell', 'fella', 'fellow', 'felt', 'few', 'fiancé', 'figured', 'filet', 'fill', 'fillet', 'filling', 'final', 'finally', 'find', 'fine', 'finger', 'finish', 'fireball', 'firehouse', 'first', 'fish', 'five', 'flair', 'flat', 'flavor', 'flavored', 'flavorful', 'flavorless', 'flavors', 'flavourful', 'flirting', 'flop', 'flower', 'fluffy', 'fly', 'fo', 'focused', 'folks', 'fondue', 'food', 'foods', 'foot', 'for', 'forever', 'forgetting', 'forth', 'forty', 'forward', 'found', 'four', 'francisco', 'freaking', 'free', 'freezing', 'frenchman', 'fresh', 'fridays', 'fried', 'friend', 'friendly', 'friends', 'fries', 'from', 'front', 'frozen', 'fruit', 'frustrated', 'fry', 'fs', 'fucking', 'full', 'fun', 'funny', 'further', 'furthermore', 'fuzzy', 'ganoush', 'garden', 'garlic', 'gas', 'gave', 'gc', 'gem', 'generic', 'generous', 'genuinely', 'get', 'gets', 'getting', 'giant', 'girlfriend', 'give', 'given', 'giving', 'glad', 'glance', 'glass', 'gloves', 'gluten', 'go', 'goat', 'godfathers', 'going', 'gold', 'golden', 'gone', 'good', 'google', 'gooodd', 'gordon', 'got', 'gotten', 'gourmet', 'grab', 'grain', 'grandmother', 'gratitude', 'gratuity', 'grease', 'greasy', 'great', 'greatest', 'greedy', 'greek', 'green', 'greens', 'greeted', 'grill', 'grilled', 'gringos', 'gristle', 'grocery', 'gross', 'grossed', 'ground', 'group', 'groups', 'grow', 'guacamole', 'guess', 'guest', 'guests', 'guy', 'guys', 'gyro', 'gyros', 'ha', 'had', 'hadn', 'hair', 'half', 'halibut', 'hamburger', 'han', 'hand', 'handed', 'handled', 'handling', 'handmade', 'hands', 'hankering', 'happened', 'happier', 'happy', 'hard', 'hardest', 'hardly', 'has', 'hasn', 'hate', 'hated', 'haunt', 'have', 'haven', 'having', 'hawaiian', 'he', 'head', 'heads', 'healthy', 'heard', 'heart', 'hearts', 'heat', 'heimer', 'held', 'hell', 'hella', 'hello', 'help', 'helped', 'helpful', 'her', 'here', 'hereas', 'hi', 'high', 'highlight', 'highlighted', 'highlights', 'highly', 'hilarious', 'him', 'hip', 'hiro', 'his', 'hit', 'hits', 'hole', 'holiday', 'home', 'homemade', 'honeslty', 'honest', 'honestly', 'honor', 'hooked', 'hope', 'hopefully', 'hopes', 'hoping', 'horrible', 'hospitality', 'host', 'hostess', 'hot', 'hottest', 'hour', 'hours', 'house', 'how', 'however', 'huevos', 'huge', 'human', 'humiliated', 'hummus', 'hunan', 'hungry', 'hurry', 'husband', 'hut', 'ians', 'ice', 'iced', 'idea', 'if', 'ignore', 'ignored', 'im', 'imagination', 'imaginative', 'imagine', 'imagined', 'immediately', 'impeccable', 'impressed', 'impressive', 'in', 'inch', 'included', 'including', 'inconsiderate', 'incredible', 'incredibly', 'indian', 'indicate', 'indoor', 'industry', 'inexpensive', 'inflate', 'informative', 'ingredients', 'insanely', 'inside', 'inspired', 'instantly', 'instead', 'insulted', 'insults', 'interesting', 'interior', 'into', 'inviting', 'ironman', 'is', 'isn', 'it', 'italian', 'item', 'its', 'itself', 'jalapeno', 'jamaican', 'japanese', 'jeff', 'jenni', 'jerk', 'jewel', 'job', 'joey', 'join', 'joint', 'joke', 'joy', 'judge', 'judging', 'juice', 'juries', 'just', 'kabuki', 'kept', 'key', 'khao', 'kid', 'kiddos', 'kids', 'killer', 'kind', 'kitchen', 'know', 'known', 'lack', 'lacked', 'lacking', 'ladies', 'lady', 'large', 'largely', 'larger', 'las', 'last', 'lastly', 'late', 'later', 'latte', 'law', 'lawyers', 'least', 'leather', 'leave', 'leaves', 'left', 'leftover', 'legit', 'legs', 'lemon', 'less', 'let', 'letdown', 'letting', 'lettuce', 'level', 'life', 'light', 'lighter', 'lighting', 'lightly', 'like', 'liked', 'likes', 'liking', 'lil', 'limited', 'lined', 'list', 'listed', 'literally', 'little', 'live', 'lived', 'living', 'll', 'lobster', 'located', 'location', 'long', 'longer', 'look', 'looked', 'looking', 'looks', 'lordy', 'lost', 'lot', 'lots', 'loudly', 'love', 'loved', 'lovely', 'lover', 'lovers', 'loves', 'loving', 'low', 'lox', 'loyal', 'luck', 'luke', 'lukewarm', 'lunch', 'mac', 'macarons', 'made', 'madhouse', 'madison', 'magazine', 'magic', 'main', 'maine', 'mains', 'maintaining', 'make', 'making', 'mall', 'man', 'managed', 'management', 'manager', 'mandalay', 'mango', 'many', 'margaritas', 'maria', 'market', 'marrow', 'martini', 'mary', 'massive', 'may', 'maybe', 'mayo', 'me', 'meal', 'meals', 'mean', 'means', 'meat', 'meatballs', 'meatloaf', 'meats', 'mediocre', 'mediterranean', 'medium', 'meet', 'meh', 'mein', 'mellow', 'melt', 'melted', 'memory', 'mention', 'menu', 'menus', 'mesquite', 'mess', 'metro', 'mexican', 'mgm', 'mid', 'middle', 'might', 'mile', 'military', 'milk', 'milkshake', 'min', 'mind', 'minutes', 'mirage', 'miss', 'missed', 'missing', 'mistake', 'mixed', 'mmmm', 'modern', 'moist', 'mojitos', 'mom', 'money', 'monster', 'months', 'mood', 'moods', 'more', 'mortified', 'most', 'mostly', 'mouth', 'mouthful', 'mouths', 'movies', 'moz', 'mozzarella', 'much', 'muffin', 'multi', 'multiple', 'mushroom', 'mushrooms', 'music', 'mussels', 'must', 'my', 'myself', 'naan', 'nachos', 'name', 'nan', 'nargile', 'nasty', 'nay', 'nearly', 'neat', 'need', 'needed', 'needless', 'needs', 'negligent', 'neighborhood', 'neither', 'never', 'new', 'next', 'nice', 'nicest', 'night', 'nigiri', 'ninja', 'no', 'nobu', 'noca', 'non', 'none', 'noodles', 'north', 'not', 'note', 'nothing', 'now', 'nude', 'number', 'nut', 'nutshell', 'nyc', 'obviously', 'occasional', 'occasions', 'of', 'off', 'offered', 'offers', 'officially', 'oh', 'ohhh', 'oil', 'ok', 'old', 'older', 'olives', 'omelets', 'omg', 'on', 'once', 'one', 'ones', 'onion', 'only', 'opened', 'operation', 'opinion', 'opportunity', 'opposed', 'options', 'or', 'order', 'ordered', 'ordering', 'orders', 'original', 'other', 'others', 'otherwise', 'otto', 'our', 'ourselves', 'out', 'outdoor', 'outrageously', 'outshining', 'outside', 'outstanding', 'outta', 'oven', 'over', 'overall', 'overcooked', 'overhaul', 'overpriced', 'overwhelmed', 'owned', 'owner', 'owners', 'oysters', 'pace', 'pack', 'packed', 'paid', 'palate', 'pale', 'palm', 'pan', 'pancake', 'pancakes', 'panna', 'paper', 'papers', 'par', 'paradise', 'parents', 'part', 'particular', 'parties', 'party', 'passed', 'past', 'pasta', 'pastas', 'pastry', 'patio', 'patron', 'pats', 'patty', 'pay', 'paying', 'peach', 'peanut', 'peanuts', 'pears', 'peas', 'pecan', 'penne', 'people', 'pepper', 'perfect', 'perfection', 'perfectly', 'performed', 'perhaps', 'perpared', 'person', 'personable', 'personally', 'petrified', 'petty', 'phenomenal', 'philadelphia', 'pho', 'phoenix', 'piano', 'picture', 'pictures', 'piece', 'pile', 'pine', 'pineapple', 'pink', 'pissd', 'pita', 'pizza', 'pizzas', 'place', 'placed', 'places', 'plain', 'plantains', 'plastic', 'plate', 'plater', 'platter', 'play', 'playing', 'pleasant', 'please', 'pleased', 'pleasure', 'plethora', 'plus', 'pneumatic', 'point', 'poisoning', 'polite', 'poop', 'poor', 'poorly', 'pop', 'pork', 'portion', 'portions', 'positive', 'possible', 'postinos', 'potato', 'potatoes', 'poured', 'powdered', 'power', 'prefer', 'prepare', 'prepared', 'preparing', 'presentation', 'pretty', 'price', 'priced', 'prices', 'pricey', 'pricing', 'prime', 'privileged', 'probably', 'problem', 'proclaimed', 'professional', 'profiterole', 'profound', 'promise', 'prompt', 'promptly', 'properly', 'pros', 'proven', 'provided', 'provides', 'providing', 'pub', 'public', 'publicly', 'pucks', 'pulled', 'pumpkin', 'puree', 'puréed', 'put', 'putting', 'quaint', 'qualified', 'quality', 'quantity', 'quick', 'quickly', 'quit', 'quite', 'ramsey', 'ranch', 'rancheros', 'rapidly', 'rare', 'rarely', 'raspberry', 'rate', 'rated', 'rather', 'rating', 'ratio', 'rave', 'raving', 'ravoli', 're', 'read', 'readers', 'reading', 'real', 'realized', 'really', 'reason', 'reasonable', 'reasonably', 'reasons', 'recall', 'received', 'receives', 'recent', 'recently', 'recommend', 'recommendation', 'recommended', 'recommending', 'red', 'redeeming', 'reduction', 'refill', 'refrained', 'refreshing', 'refried', 'refused', 'register', 'regular', 'regularly', 'reheated', 'relationship', 'relax', 'relaxed', 'relleno', 'relocated', 'remember', 'reminded', 'reminds', 'replenished', 'requested', 'reservation', 'rest', 'restaraunt', 'restaurant', 'restaurants', 'return', 'returned', 'returning', 'review', 'reviewer', 'reviewing', 'reviews', 'revisiting', 'rge', 'ri', 'rib', 'ribeye', 'rice', 'rich', 'rick', 'ridiculous', 'right', 'rings', 'rinse', 'ripped', 'risotto', 'roast', 'roasted', 'rock', 'roll', 'rolled', 'rolls', 'room', 'rotating', 'round', 'rowdy', 'rubber', 'rude', 'rudely', 'running', 'rushed', 'ryan', 'sad', 'sadly', 'saffron', 'saganaki', 'said', 'salad', 'salads', 'salmon', 'sals', 'salsa', 'salt', 'salty', 'same', 'sample', 'san', 'sandwich', 'sandwiches', 'sangria', 'sashimi', 'sat', 'satifying', 'satisfied', 'satisfying', 'sauce', 'sauces', 'sause', 'saving', 'say', 'saying', 'says', 'scallop', 'scene', 'scottsdale', 'screams', 'screwed', 'seafood', 'seal', 'seasonal', 'seasoned', 'seasoning', 'seat', 'seated', 'seating', 'second', 'section', 'see', 'seemed', 'seems', 'seen', 'selection', 'selections', 'self', 'send', 'sense', 'sergeant', 'seriously', 'serivce', 'serve', 'served', 'server', 'servers', 'serves', 'service', 'services', 'serving', 'set', 'setting', 'sever', 'several', 'sewer', 'sexy', 'shall', 'sharply', 'shawarrrrrrma', 'she', 'shirt', 'shocked', 'shoe', 'shoots', 'shop', 'shopping', 'shops', 'short', 'shots', 'should', 'shouldn', 'show', 'showed', 'shower', 'shrimp', 'sick', 'side', 'sides', 'sign', 'signs', 'silently', 'similar', 'similarly', 'simple', 'simply', 'since', 'single', 'sit', 'sitting', 'six', 'skimp', 'slaw', 'sliced', 'slices', 'slow', 'small', 'smaller', 'smashburger', 'smeared', 'smelled', 'smells', 'smoke', 'smooth', 'smoothies', 'so', 'soggy', 'soi', 'solid', 'solidify', 'some', 'somehow', 'someone', 'somethat', 'something', 'somewhat', 'son', 'songs', 'soon', 'soooo', 'sooooo', 'soooooo', 'sore', 'sorely', 'sorry', 'sound', 'soundtrack', 'soup', 'soups', 'sour', 'southwest', 'space', 'spaghetti', 'special', 'specials', 'speedy', 'spend', 'spends', 'spice', 'spices', 'spicier', 'spicy', 'spinach', 'sporting', 'spot', 'spots', 'spotty', 'spring', 'sprouts', 'staff', 'stale', 'standard', 'star', 'stars', 'started', 'starving', 'station', 'stay', 'stayed', 'staying', 'steak', 'steakhouse', 'steaks', 'steiners', 'step', 'stepped', 'steve', 'sticks', 'still', 'stinks', 'stir', 'stomach', 'stood', 'stop', 'stopped', 'store', 'strange', 'strangers', 'strawberry', 'street', 'stretch', 'strike', 'strings', 'strip', 'struck', 'struggle', 'stuff', 'stuffed', 'stupid', 'style', 'styrofoam', 'sub', 'subpar', 'subway', 'succulent', 'such', 'suck', 'sucked', 'sucker', 'sucks', 'suffers', 'sugar', 'sugary', 'suggest', 'suggestions', 'summarize', 'summary', 'summer', 'sun', 'sunday', 'sunglasses', 'super', 'supposed', 'sure', 'surprise', 'surprised', 'sushi', 'sweet', 'swung', 'table', 'tables', 'taco', 'tacos', 'tailored', 'take', 'takeout', 'talk', 'talking', 'tap', 'tapas', 'tartar', 'tartare', 'taste', 'tasted', 'tasteless', 'tastings', 'tasty', 'tater', 'tea', 'teamwork', 'teeth', 'tell', 'temp', 'ten', 'tender', 'tenders', 'tepid', 'terrible', 'terrific', 'texture', 'thai', 'than', 'thanks', 'that', 'thats', 'the', 'theft', 'their', 'them', 'themselves', 'then', 'there', 'these', 'they', 'thick', 'thin', 'thing', 'things', 'think', 'thinking', 'thinly', 'third', 'thirty', 'this', 'thoroughly', 'those', 'though', 'thought', 'three', 'thrilled', 'thru', 'thumbs', 'thus', 'tigerlilly', 'time', 'times', 'tiny', 'tip', 'tiramisu', 'to', 'toast', 'toasted', 'today', 'together', 'told', 'tolerance', 'tomato', 'tongue', 'tonight', 'too', 'took', 'top', 'topic', 'tops', 'toro', 'total', 'totally', 'tots', 'touch', 'touched', 'tough', 'towards', 'town', 'tracked', 'traditional', 'tragedy', 'transcendant', 'trap', 'treat', 'treated', 'tribute', 'tried', 'trimmed', 'trip', 'trippy', 'trips', 'truffle', 'truly', 'try', 'trying', 'tucson', 'tummy', 'tuna', 'turkey', 'turn', 'tv', 'twice', 'two', 'typical', 'unbelievable', 'unbelievably', 'under', 'undercooked', 'understand', 'underwhelming', 'unexperienced', 'unfortunately', 'unhealthy', 'uninspired', 'unique', 'unless', 'unprofessional', 'unreal', 'unsatisfying', 'until', 'untoasted', 'unwelcome', 'unwrapped', 'up', 'update', 'upgrading', 'uploaded', 'us', 'use', 'used', 'usual', 'vacant', 'vain', 'valley', 'value', 'vanilla', 've', 'veal', 'vegan', 'vegas', 'vegetables', 'vegetarian', 'veggie', 'veggitarian', 'velvet', 'ventilation', 'venture', 'venturing', 'venue', 'verge', 'version', 'very', 'via', 'vibe', 'vinaigrette', 'vinegrette', 'violinists', 'visit', 'visited', 'vodka', 'vomited', 'voodoo', 'voted', 'waaaaaayyyyyyyyyy', 'wagyu', 'wait', 'waited', 'waiter', 'waiting', 'waitress', 'waitresses', 'walked', 'wall', 'walls', 'want', 'wanted', 'wants', 'warm', 'warmer', 'warnings', 'was', 'wash', 'wasn', 'waste', 'wasted', 'wasting', 'watch', 'watched', 'water', 'watered', 'wave', 'way', 'ways', 'wayyy', 'we', 'weak', 'website', 'wedges', 'week', 'weekend', 'weekly', 'weird', 'welcome', 'well', 'went', 'were', 'weren', 'what', 'whatsoever', 'whelm', 'when', 'whenever', 'where', 'whether', 'which', 'while', 'white', 'who', 'whole', 'why', 'wide', 'wienerschnitzel', 'wife', 'wildly', 'will', 'wine', 'wines', 'wings', 'winner', 'wire', 'wish', 'with', 'without', 'witnessed', 'won', 'wonderful', 'wontons', 'word', 'words', 'work', 'worker', 'workers', 'working', 'works', 'world', 'worries', 'worse', 'worst', 'worth', 'would', 'wouldn', 'wound', 'wow', 'wrap', 'wrapped', 'writing', 'wrong', 'ya', 'yama', 'yay', 'yeah', 'year', 'years', 'yellow', 'yellowtail', 'yelpers', 'yet', 'you', 'your', 'yourself', 'yucky', 'yukon', 'yum', 'yummy', 'zero']\n"
     ]
    }
   ],
   "source": [
    "from sklearn.feature_extraction.text import TfidfVectorizer\n",
    "tfidf_vect=TfidfVectorizer()\n",
    "X_tfidf=tfidf_vect.fit_transform(data['Review'])\n",
    "print(X_tfidf.shape)\n",
    "print(tfidf_vect.get_feature_names())\n",
    " "
   ]
  },
  {
   "cell_type": "markdown",
   "metadata": {},
   "source": [
    "#### Feature Creation<br>\n",
    "Feature engineering is the process of using domain knowledge of the data to create features that make machine learning algorithms work. It is like an art as it requires domain knowledge and it can tough to create features, but it can be fruitful for ML algorithm to predict results as they can be related to the prediction.\n"
   ]
  },
  {
   "cell_type": "code",
   "execution_count": 38,
   "metadata": {},
   "outputs": [
    {
     "data": {
      "text/html": [
       "<div>\n",
       "<style scoped>\n",
       "    .dataframe tbody tr th:only-of-type {\n",
       "        vertical-align: middle;\n",
       "    }\n",
       "\n",
       "    .dataframe tbody tr th {\n",
       "        vertical-align: top;\n",
       "    }\n",
       "\n",
       "    .dataframe thead th {\n",
       "        text-align: right;\n",
       "    }\n",
       "</style>\n",
       "<table border=\"1\" class=\"dataframe\">\n",
       "  <thead>\n",
       "    <tr style=\"text-align: right;\">\n",
       "      <th></th>\n",
       "      <th>Review</th>\n",
       "      <th>Liked</th>\n",
       "      <th>Review_clean</th>\n",
       "      <th>Review_tokenized</th>\n",
       "      <th>Review_nostop</th>\n",
       "      <th>Review_stemmed</th>\n",
       "      <th>Review_lemmatized</th>\n",
       "      <th>Review_len</th>\n",
       "      <th>punct%</th>\n",
       "    </tr>\n",
       "  </thead>\n",
       "  <tbody>\n",
       "    <tr>\n",
       "      <th>0</th>\n",
       "      <td>Wow... Loved this place.</td>\n",
       "      <td>1</td>\n",
       "      <td>Wow Loved this place</td>\n",
       "      <td>[Wow, Loved, this, place]</td>\n",
       "      <td>[Wow, Loved, place]</td>\n",
       "      <td>[wow, love, place]</td>\n",
       "      <td>[Wow, Loved, place]</td>\n",
       "      <td>21</td>\n",
       "      <td>19.0</td>\n",
       "    </tr>\n",
       "    <tr>\n",
       "      <th>1</th>\n",
       "      <td>Crust is not good.</td>\n",
       "      <td>0</td>\n",
       "      <td>Crust is not good</td>\n",
       "      <td>[Crust, is, not, good]</td>\n",
       "      <td>[Crust, good]</td>\n",
       "      <td>[crust, good]</td>\n",
       "      <td>[Crust, good]</td>\n",
       "      <td>15</td>\n",
       "      <td>6.7</td>\n",
       "    </tr>\n",
       "  </tbody>\n",
       "</table>\n",
       "</div>"
      ],
      "text/plain": [
       "                     Review  Liked          Review_clean  \\\n",
       "0  Wow... Loved this place.      1  Wow Loved this place   \n",
       "1        Crust is not good.      0     Crust is not good   \n",
       "\n",
       "            Review_tokenized        Review_nostop      Review_stemmed  \\\n",
       "0  [Wow, Loved, this, place]  [Wow, Loved, place]  [wow, love, place]   \n",
       "1     [Crust, is, not, good]        [Crust, good]       [crust, good]   \n",
       "\n",
       "     Review_lemmatized  Review_len  punct%  \n",
       "0  [Wow, Loved, place]          21    19.0  \n",
       "1        [Crust, good]          15     6.7  "
      ]
     },
     "execution_count": 38,
     "metadata": {},
     "output_type": "execute_result"
    }
   ],
   "source": [
    "import string\n",
    "# Function to calculate length of message excluding space\n",
    "data[\"Review_len\"]=data[\"Review\"].apply(lambda x: len(x)-x.count(\" \"))\n",
    "#print(dataset.head(2))\n",
    "\n",
    "def count_punct(text):\n",
    "    count=sum([1 for char in text if char in string.punctuation])\n",
    "    return round(count/(len(text)-text.count(\" \")),3)*100\n",
    "data[\"punct%\"] = data[\"Review\"].apply(lambda x:count_punct(x))\n",
    "data.head(2)\n"
   ]
  },
  {
   "cell_type": "code",
   "execution_count": 39,
   "metadata": {},
   "outputs": [
    {
     "name": "stderr",
     "output_type": "stream",
     "text": [
      "C:\\ProgramData\\Anaconda3\\lib\\site-packages\\ipykernel_launcher.py:2: MatplotlibDeprecationWarning: \n",
      "The 'normed' kwarg was deprecated in Matplotlib 2.1 and will be removed in 3.1. Use 'density' instead.\n",
      "  \n",
      "C:\\ProgramData\\Anaconda3\\lib\\site-packages\\ipykernel_launcher.py:3: MatplotlibDeprecationWarning: \n",
      "The 'normed' kwarg was deprecated in Matplotlib 2.1 and will be removed in 3.1. Use 'density' instead.\n",
      "  This is separate from the ipykernel package so we can avoid doing imports until\n"
     ]
    },
    {
     "data": {
      "image/png": "[encoded data removed]",
      "text/plain": [
       "<Figure size 432x288 with 1 Axes>"
      ]
     },
     "metadata": {
      "needs_background": "light"
     },
     "output_type": "display_data"
    }
   ],
   "source": [
    "bins=np.linspace(0,200,40)\n",
    "plt.hist(data[data['Liked']==1]['Review_len'],bins,alpha=0.5,normed=True,label=1)\n",
    "plt.hist(data[data['Liked']==0]['Review_len'],bins,alpha=0.5,normed=True,label=0)\n",
    "plt.legend(loc=\"upper right\")\n",
    "plt.show()"
   ]
  },
  {
   "cell_type": "code",
   "execution_count": 40,
   "metadata": {},
   "outputs": [
    {
     "name": "stderr",
     "output_type": "stream",
     "text": [
      "C:\\ProgramData\\Anaconda3\\lib\\site-packages\\ipykernel_launcher.py:2: MatplotlibDeprecationWarning: \n",
      "The 'normed' kwarg was deprecated in Matplotlib 2.1 and will be removed in 3.1. Use 'density' instead.\n",
      "  \n",
      "C:\\ProgramData\\Anaconda3\\lib\\site-packages\\ipykernel_launcher.py:3: MatplotlibDeprecationWarning: \n",
      "The 'normed' kwarg was deprecated in Matplotlib 2.1 and will be removed in 3.1. Use 'density' instead.\n",
      "  This is separate from the ipykernel package so we can avoid doing imports until\n"
     ]
    },
    {
     "data": {
      "image/png": "[encoded data removed]",
      "text/plain": [
       "<Figure size 432x288 with 1 Axes>"
      ]
     },
     "metadata": {
      "needs_background": "light"
     },
     "output_type": "display_data"
    }
   ],
   "source": [
    "bins=np.linspace(0,50,40)\n",
    "plt.hist(data[data['Liked']==1]['punct%'],bins,alpha=0.5,normed=True,label=1)\n",
    "plt.hist(data[data['Liked']==0]['punct%'],bins,alpha=0.5,normed=True,label=0)\n",
    "plt.legend(loc=\"upper right\")\n",
    "plt.show()"
   ]
  },
  {
   "cell_type": "markdown",
   "metadata": {},
   "source": [
    "#### Model Selection<br>\n",
    "We use an ensemble method of machine learning where multiple models are used and their combination produces better results than a single model(Support Vector Machine/Naive Bayes). Ensemble methods are the first choice for many Kaggle Competitions. Random Forest i.e multiple random decision trees are constructed and the aggregates of each tree are used for the final prediction. It can be used for classification as well as regression problems. It follows a bagging strategy where randomly.\n",
    "\n",
    "**Grid-search**: It exhaustively searches overall parameter combinations in a given grid to determine the best model.\n",
    "\n"
   ]
  },
  {
   "cell_type": "code",
   "execution_count": 41,
   "metadata": {},
   "outputs": [
    {
     "data": {
      "text/html": [
       "<div>\n",
       "<style scoped>\n",
       "    .dataframe tbody tr th:only-of-type {\n",
       "        vertical-align: middle;\n",
       "    }\n",
       "\n",
       "    .dataframe tbody tr th {\n",
       "        vertical-align: top;\n",
       "    }\n",
       "\n",
       "    .dataframe thead th {\n",
       "        text-align: right;\n",
       "    }\n",
       "</style>\n",
       "<table border=\"1\" class=\"dataframe\">\n",
       "  <thead>\n",
       "    <tr style=\"text-align: right;\">\n",
       "      <th></th>\n",
       "      <th>mean_fit_time</th>\n",
       "      <th>std_fit_time</th>\n",
       "      <th>mean_score_time</th>\n",
       "      <th>std_score_time</th>\n",
       "      <th>param_max_depth</th>\n",
       "      <th>param_n_estimators</th>\n",
       "      <th>params</th>\n",
       "      <th>split0_test_score</th>\n",
       "      <th>split1_test_score</th>\n",
       "      <th>split2_test_score</th>\n",
       "      <th>split3_test_score</th>\n",
       "      <th>split4_test_score</th>\n",
       "      <th>mean_test_score</th>\n",
       "      <th>std_test_score</th>\n",
       "      <th>rank_test_score</th>\n",
       "    </tr>\n",
       "  </thead>\n",
       "  <tbody>\n",
       "    <tr>\n",
       "      <th>7</th>\n",
       "      <td>3.187570</td>\n",
       "      <td>0.021920</td>\n",
       "      <td>0.054569</td>\n",
       "      <td>0.001356</td>\n",
       "      <td>90</td>\n",
       "      <td>150</td>\n",
       "      <td>{'max_depth': 90, 'n_estimators': 150}</td>\n",
       "      <td>0.645</td>\n",
       "      <td>0.650</td>\n",
       "      <td>0.725</td>\n",
       "      <td>0.705</td>\n",
       "      <td>0.655</td>\n",
       "      <td>0.676</td>\n",
       "      <td>0.032619</td>\n",
       "      <td>1</td>\n",
       "    </tr>\n",
       "    <tr>\n",
       "      <th>8</th>\n",
       "      <td>6.356751</td>\n",
       "      <td>0.042659</td>\n",
       "      <td>0.105140</td>\n",
       "      <td>0.002785</td>\n",
       "      <td>90</td>\n",
       "      <td>300</td>\n",
       "      <td>{'max_depth': 90, 'n_estimators': 300}</td>\n",
       "      <td>0.690</td>\n",
       "      <td>0.685</td>\n",
       "      <td>0.690</td>\n",
       "      <td>0.695</td>\n",
       "      <td>0.620</td>\n",
       "      <td>0.676</td>\n",
       "      <td>0.028178</td>\n",
       "      <td>1</td>\n",
       "    </tr>\n",
       "    <tr>\n",
       "      <th>1</th>\n",
       "      <td>1.532320</td>\n",
       "      <td>0.019973</td>\n",
       "      <td>0.048573</td>\n",
       "      <td>0.006115</td>\n",
       "      <td>30</td>\n",
       "      <td>150</td>\n",
       "      <td>{'max_depth': 30, 'n_estimators': 150}</td>\n",
       "      <td>0.660</td>\n",
       "      <td>0.700</td>\n",
       "      <td>0.715</td>\n",
       "      <td>0.685</td>\n",
       "      <td>0.600</td>\n",
       "      <td>0.672</td>\n",
       "      <td>0.040324</td>\n",
       "      <td>3</td>\n",
       "    </tr>\n",
       "    <tr>\n",
       "      <th>4</th>\n",
       "      <td>2.524750</td>\n",
       "      <td>0.067636</td>\n",
       "      <td>0.048572</td>\n",
       "      <td>0.000799</td>\n",
       "      <td>60</td>\n",
       "      <td>150</td>\n",
       "      <td>{'max_depth': 60, 'n_estimators': 150}</td>\n",
       "      <td>0.680</td>\n",
       "      <td>0.665</td>\n",
       "      <td>0.675</td>\n",
       "      <td>0.700</td>\n",
       "      <td>0.610</td>\n",
       "      <td>0.666</td>\n",
       "      <td>0.030232</td>\n",
       "      <td>4</td>\n",
       "    </tr>\n",
       "    <tr>\n",
       "      <th>5</th>\n",
       "      <td>4.943763</td>\n",
       "      <td>0.083188</td>\n",
       "      <td>0.095145</td>\n",
       "      <td>0.002481</td>\n",
       "      <td>60</td>\n",
       "      <td>300</td>\n",
       "      <td>{'max_depth': 60, 'n_estimators': 300}</td>\n",
       "      <td>0.635</td>\n",
       "      <td>0.675</td>\n",
       "      <td>0.675</td>\n",
       "      <td>0.705</td>\n",
       "      <td>0.625</td>\n",
       "      <td>0.663</td>\n",
       "      <td>0.029257</td>\n",
       "      <td>5</td>\n",
       "    </tr>\n",
       "  </tbody>\n",
       "</table>\n",
       "</div>"
      ],
      "text/plain": [
       "   mean_fit_time  std_fit_time  mean_score_time  std_score_time  \\\n",
       "7       3.187570      0.021920         0.054569        0.001356   \n",
       "8       6.356751      0.042659         0.105140        0.002785   \n",
       "1       1.532320      0.019973         0.048573        0.006115   \n",
       "4       2.524750      0.067636         0.048572        0.000799   \n",
       "5       4.943763      0.083188         0.095145        0.002481   \n",
       "\n",
       "  param_max_depth param_n_estimators                                  params  \\\n",
       "7              90                150  {'max_depth': 90, 'n_estimators': 150}   \n",
       "8              90                300  {'max_depth': 90, 'n_estimators': 300}   \n",
       "1              30                150  {'max_depth': 30, 'n_estimators': 150}   \n",
       "4              60                150  {'max_depth': 60, 'n_estimators': 150}   \n",
       "5              60                300  {'max_depth': 60, 'n_estimators': 300}   \n",
       "\n",
       "   split0_test_score  split1_test_score  split2_test_score  split3_test_score  \\\n",
       "7              0.645              0.650              0.725              0.705   \n",
       "8              0.690              0.685              0.690              0.695   \n",
       "1              0.660              0.700              0.715              0.685   \n",
       "4              0.680              0.665              0.675              0.700   \n",
       "5              0.635              0.675              0.675              0.705   \n",
       "\n",
       "   split4_test_score  mean_test_score  std_test_score  rank_test_score  \n",
       "7              0.655            0.676        0.032619                1  \n",
       "8              0.620            0.676        0.028178                1  \n",
       "1              0.600            0.672        0.040324                3  \n",
       "4              0.610            0.666        0.030232                4  \n",
       "5              0.625            0.663        0.029257                5  "
      ]
     },
     "execution_count": 41,
     "metadata": {},
     "output_type": "execute_result"
    }
   ],
   "source": [
    "from sklearn.ensemble import RandomForestClassifier\n",
    "from sklearn.model_selection import GridSearchCV\n",
    "rf=RandomForestClassifier()\n",
    "param={'n_estimators':[10,150,300],'max_depth':[30,60,90,None]}\n",
    "gs=GridSearchCV(rf,param,cv=5,n_jobs=-1)# For parallelizing the speech\n",
    "gs_fit=gs.fit(X_counts,data['Liked'])\n",
    "pd.DataFrame(gs_fit.cv_results_).sort_values('mean_test_score',ascending=False).head()"
   ]
  },
  {
   "cell_type": "code",
   "execution_count": 42,
   "metadata": {},
   "outputs": [
    {
     "data": {
      "text/html": [
       "<div>\n",
       "<style scoped>\n",
       "    .dataframe tbody tr th:only-of-type {\n",
       "        vertical-align: middle;\n",
       "    }\n",
       "\n",
       "    .dataframe tbody tr th {\n",
       "        vertical-align: top;\n",
       "    }\n",
       "\n",
       "    .dataframe thead th {\n",
       "        text-align: right;\n",
       "    }\n",
       "</style>\n",
       "<table border=\"1\" class=\"dataframe\">\n",
       "  <thead>\n",
       "    <tr style=\"text-align: right;\">\n",
       "      <th></th>\n",
       "      <th>mean_fit_time</th>\n",
       "      <th>std_fit_time</th>\n",
       "      <th>mean_score_time</th>\n",
       "      <th>std_score_time</th>\n",
       "      <th>param_max_depth</th>\n",
       "      <th>param_n_estimators</th>\n",
       "      <th>params</th>\n",
       "      <th>split0_test_score</th>\n",
       "      <th>split1_test_score</th>\n",
       "      <th>split2_test_score</th>\n",
       "      <th>split3_test_score</th>\n",
       "      <th>split4_test_score</th>\n",
       "      <th>mean_test_score</th>\n",
       "      <th>std_test_score</th>\n",
       "      <th>rank_test_score</th>\n",
       "    </tr>\n",
       "  </thead>\n",
       "  <tbody>\n",
       "    <tr>\n",
       "      <th>7</th>\n",
       "      <td>1.791771</td>\n",
       "      <td>0.019302</td>\n",
       "      <td>0.048972</td>\n",
       "      <td>0.001548</td>\n",
       "      <td>90</td>\n",
       "      <td>150</td>\n",
       "      <td>{'max_depth': 90, 'n_estimators': 150}</td>\n",
       "      <td>0.790</td>\n",
       "      <td>0.790</td>\n",
       "      <td>0.775</td>\n",
       "      <td>0.815</td>\n",
       "      <td>0.765</td>\n",
       "      <td>0.787</td>\n",
       "      <td>0.016912</td>\n",
       "      <td>1</td>\n",
       "    </tr>\n",
       "    <tr>\n",
       "      <th>11</th>\n",
       "      <td>3.483202</td>\n",
       "      <td>0.403383</td>\n",
       "      <td>0.082156</td>\n",
       "      <td>0.015209</td>\n",
       "      <td>None</td>\n",
       "      <td>300</td>\n",
       "      <td>{'max_depth': None, 'n_estimators': 300}</td>\n",
       "      <td>0.770</td>\n",
       "      <td>0.785</td>\n",
       "      <td>0.770</td>\n",
       "      <td>0.810</td>\n",
       "      <td>0.785</td>\n",
       "      <td>0.784</td>\n",
       "      <td>0.014629</td>\n",
       "      <td>2</td>\n",
       "    </tr>\n",
       "    <tr>\n",
       "      <th>8</th>\n",
       "      <td>3.593937</td>\n",
       "      <td>0.034185</td>\n",
       "      <td>0.101741</td>\n",
       "      <td>0.006302</td>\n",
       "      <td>90</td>\n",
       "      <td>300</td>\n",
       "      <td>{'max_depth': 90, 'n_estimators': 300}</td>\n",
       "      <td>0.755</td>\n",
       "      <td>0.785</td>\n",
       "      <td>0.770</td>\n",
       "      <td>0.830</td>\n",
       "      <td>0.760</td>\n",
       "      <td>0.780</td>\n",
       "      <td>0.027019</td>\n",
       "      <td>3</td>\n",
       "    </tr>\n",
       "    <tr>\n",
       "      <th>10</th>\n",
       "      <td>1.889915</td>\n",
       "      <td>0.023233</td>\n",
       "      <td>0.051970</td>\n",
       "      <td>0.003845</td>\n",
       "      <td>None</td>\n",
       "      <td>150</td>\n",
       "      <td>{'max_depth': None, 'n_estimators': 150}</td>\n",
       "      <td>0.775</td>\n",
       "      <td>0.785</td>\n",
       "      <td>0.765</td>\n",
       "      <td>0.825</td>\n",
       "      <td>0.750</td>\n",
       "      <td>0.780</td>\n",
       "      <td>0.025298</td>\n",
       "      <td>3</td>\n",
       "    </tr>\n",
       "    <tr>\n",
       "      <th>5</th>\n",
       "      <td>3.272721</td>\n",
       "      <td>0.043640</td>\n",
       "      <td>0.093946</td>\n",
       "      <td>0.002365</td>\n",
       "      <td>60</td>\n",
       "      <td>300</td>\n",
       "      <td>{'max_depth': 60, 'n_estimators': 300}</td>\n",
       "      <td>0.760</td>\n",
       "      <td>0.775</td>\n",
       "      <td>0.765</td>\n",
       "      <td>0.835</td>\n",
       "      <td>0.755</td>\n",
       "      <td>0.778</td>\n",
       "      <td>0.029257</td>\n",
       "      <td>5</td>\n",
       "    </tr>\n",
       "  </tbody>\n",
       "</table>\n",
       "</div>"
      ],
      "text/plain": [
       "    mean_fit_time  std_fit_time  mean_score_time  std_score_time  \\\n",
       "7        1.791771      0.019302         0.048972        0.001548   \n",
       "11       3.483202      0.403383         0.082156        0.015209   \n",
       "8        3.593937      0.034185         0.101741        0.006302   \n",
       "10       1.889915      0.023233         0.051970        0.003845   \n",
       "5        3.272721      0.043640         0.093946        0.002365   \n",
       "\n",
       "   param_max_depth param_n_estimators  \\\n",
       "7               90                150   \n",
       "11            None                300   \n",
       "8               90                300   \n",
       "10            None                150   \n",
       "5               60                300   \n",
       "\n",
       "                                      params  split0_test_score  \\\n",
       "7     {'max_depth': 90, 'n_estimators': 150}              0.790   \n",
       "11  {'max_depth': None, 'n_estimators': 300}              0.770   \n",
       "8     {'max_depth': 90, 'n_estimators': 300}              0.755   \n",
       "10  {'max_depth': None, 'n_estimators': 150}              0.775   \n",
       "5     {'max_depth': 60, 'n_estimators': 300}              0.760   \n",
       "\n",
       "    split1_test_score  split2_test_score  split3_test_score  \\\n",
       "7               0.790              0.775              0.815   \n",
       "11              0.785              0.770              0.810   \n",
       "8               0.785              0.770              0.830   \n",
       "10              0.785              0.765              0.825   \n",
       "5               0.775              0.765              0.835   \n",
       "\n",
       "    split4_test_score  mean_test_score  std_test_score  rank_test_score  \n",
       "7               0.765            0.787        0.016912                1  \n",
       "11              0.785            0.784        0.014629                2  \n",
       "8               0.760            0.780        0.027019                3  \n",
       "10              0.750            0.780        0.025298                3  \n",
       "5               0.755            0.778        0.029257                5  "
      ]
     },
     "execution_count": 42,
     "metadata": {},
     "output_type": "execute_result"
    }
   ],
   "source": [
    "from sklearn.ensemble import RandomForestClassifier\n",
    "from sklearn.model_selection import GridSearchCV\n",
    "rf=RandomForestClassifier()\n",
    "param={'n_estimators':[10,150,300],'max_depth':[30,60,90,None]}\n",
    "gs=GridSearchCV(rf,param,cv=5,n_jobs=-1)# For parallelizing the speech\n",
    "gs_fit=gs.fit(X_tfidf,data['Liked'])\n",
    "pd.DataFrame(gs_fit.cv_results_).sort_values('mean_test_score',ascending=False).head()"
   ]
  },
  {
   "cell_type": "code",
   "execution_count": 43,
   "metadata": {},
   "outputs": [],
   "source": [
    "corpus=X_counts\n",
    "X = corpus.toarray()\n",
    "y = data.iloc[:, 1].values\n",
    "\n",
    "# Splitting the dataset into the Training set and Test set\n",
    "from sklearn.model_selection import train_test_split\n",
    "X_train, X_test, y_train, y_test = train_test_split(X, y, test_size = 0.20, random_state = 0)\n",
    "\n",
    "# Fitting Naive Bayes to the Training set\n",
    "from sklearn.ensemble import RandomForestClassifier\n",
    "classifier = RandomForestClassifier()\n",
    "gs.fit(X_train, y_train)\n",
    "\n",
    "# Predicting the Test set results\n",
    "y_pred = gs.predict(X_test)\n",
    "\n",
    "# Making the Confusion Matrix\n",
    "from sklearn.metrics import confusion_matrix\n",
    "cm = confusion_matrix(y_test, y_pred)"
   ]
  },
  {
   "cell_type": "code",
   "execution_count": 44,
   "metadata": {},
   "outputs": [
    {
     "name": "stdout",
     "output_type": "stream",
     "text": [
      "[[79 18]\n",
      " [52 51]]\n"
     ]
    }
   ],
   "source": [
    "print(cm)"
   ]
  },
  {
   "cell_type": "code",
   "execution_count": 45,
   "metadata": {},
   "outputs": [
    {
     "data": {
      "text/plain": [
       "<matplotlib.axes._subplots.AxesSubplot at 0x28e7e81f9b0>"
      ]
     },
     "execution_count": 45,
     "metadata": {},
     "output_type": "execute_result"
    },
    {
     "data": {
      "image/png": "[encoded data removed]",
      "text/plain": [
       "<Figure size 432x288 with 2 Axes>"
      ]
     },
     "metadata": {
      "needs_background": "light"
     },
     "output_type": "display_data"
    }
   ],
   "source": [
    "import seaborn as sns\n",
    "sns.heatmap(cm,annot=True)"
   ]
  },
  {
   "cell_type": "code",
   "execution_count": 46,
   "metadata": {},
   "outputs": [
    {
     "name": "stdout",
     "output_type": "stream",
     "text": [
      "              precision    recall  f1-score   support\n",
      "\n",
      "           0       0.60      0.81      0.69        97\n",
      "           1       0.74      0.50      0.59       103\n",
      "\n",
      "    accuracy                           0.65       200\n",
      "   macro avg       0.67      0.65      0.64       200\n",
      "weighted avg       0.67      0.65      0.64       200\n",
      "\n"
     ]
    }
   ],
   "source": [
    "from sklearn.metrics import classification_report\n",
    "cr=classification_report(y_test,y_pred)\n",
    "print(cr)"
   ]
  },
  {
   "cell_type": "markdown",
   "metadata": {},
   "source": [
    "## Conclusion"
   ]
  },
  {
   "cell_type": "markdown",
   "metadata": {},
   "source": [
    "Hence we get 65% Accuracy by using Random Forest Classifier due to the uniqueness we cant get more than 60% Accuracy in order to improve we need to use rating system that far improves the information in our training data so that we can get more Accuracy "
   ]
  },
  {
   "cell_type": "code",
   "execution_count": null,
   "metadata": {},
   "outputs": [],
   "source": []
  }
 ],
 "metadata": {
  "kernelspec": {
   "display_name": "Python 3",
   "language": "python",
   "name": "python3"
  },
  "language_info": {
   "codemirror_mode": {
    "name": "ipython",
    "version": 3
   },
   "file_extension": ".py",
   "mimetype": "text/x-python",
   "name": "python",
   "nbconvert_exporter": "python",
   "pygments_lexer": "ipython3",
   "version": "3.7.3"
  }
 },
 "nbformat": 4,
 "nbformat_minor": 2
}
